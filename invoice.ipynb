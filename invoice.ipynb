{
  "cells": [
    {
      "cell_type": "markdown",
      "metadata": {
        "id": "view-in-github",
        "colab_type": "text"
      },
      "source": [
        "<a href=\"https://colab.research.google.com/github/Dhananjay-97/Chatbot/blob/main/invoice.ipynb\" target=\"_parent\"><img src=\"https://colab.research.google.com/assets/colab-badge.svg\" alt=\"Open In Colab\"/></a>"
      ]
    },
    {
      "cell_type": "markdown",
      "metadata": {
        "id": "hdN40OPBO465"
      },
      "source": [
        "# Data Processing"
      ]
    },
    {
      "cell_type": "code",
      "source": [
        "from google.colab import drive\n",
        "drive.mount('/content/drive')"
      ],
      "metadata": {
        "id": "3koDG8vJPElR",
        "colab": {
          "base_uri": "https://localhost:8080/"
        },
        "outputId": "61845f6a-ab09-4fe3-bd7c-507a3f1b6f8b"
      },
      "execution_count": 1,
      "outputs": [
        {
          "output_type": "stream",
          "name": "stdout",
          "text": [
            "Mounted at /content/drive\n"
          ]
        }
      ]
    },
    {
      "cell_type": "markdown",
      "metadata": {
        "id": "CIIq99qPO467"
      },
      "source": [
        "## Text Extraction from PDF with Bounding Boxes"
      ]
    },
    {
      "cell_type": "code",
      "source": [
        "!sudo apt install tesseract-ocr\n",
        "!pip install pytesseract"
      ],
      "metadata": {
        "colab": {
          "base_uri": "https://localhost:8080/"
        },
        "id": "TxfbAGC2TzZ5",
        "outputId": "86051513-c9be-46f9-d5f7-3297892bc5d9"
      },
      "execution_count": 2,
      "outputs": [
        {
          "output_type": "stream",
          "name": "stdout",
          "text": [
            "Reading package lists... Done\n",
            "Building dependency tree... Done\n",
            "Reading state information... Done\n",
            "The following additional packages will be installed:\n",
            "  tesseract-ocr-eng tesseract-ocr-osd\n",
            "The following NEW packages will be installed:\n",
            "  tesseract-ocr tesseract-ocr-eng tesseract-ocr-osd\n",
            "0 upgraded, 3 newly installed, 0 to remove and 16 not upgraded.\n",
            "Need to get 4,816 kB of archives.\n",
            "After this operation, 15.6 MB of additional disk space will be used.\n",
            "Get:1 http://archive.ubuntu.com/ubuntu jammy/universe amd64 tesseract-ocr-eng all 1:4.00~git30-7274cfa-1.1 [1,591 kB]\n",
            "Get:2 http://archive.ubuntu.com/ubuntu jammy/universe amd64 tesseract-ocr-osd all 1:4.00~git30-7274cfa-1.1 [2,990 kB]\n",
            "Get:3 http://archive.ubuntu.com/ubuntu jammy/universe amd64 tesseract-ocr amd64 4.1.1-2.1build1 [236 kB]\n",
            "Fetched 4,816 kB in 0s (30.0 MB/s)\n",
            "debconf: unable to initialize frontend: Dialog\n",
            "debconf: (No usable dialog-like program is installed, so the dialog based frontend cannot be used. at /usr/share/perl5/Debconf/FrontEnd/Dialog.pm line 78, <> line 3.)\n",
            "debconf: falling back to frontend: Readline\n",
            "debconf: unable to initialize frontend: Readline\n",
            "debconf: (This frontend requires a controlling tty.)\n",
            "debconf: falling back to frontend: Teletype\n",
            "dpkg-preconfigure: unable to re-open stdin: \n",
            "Selecting previously unselected package tesseract-ocr-eng.\n",
            "(Reading database ... 120831 files and directories currently installed.)\n",
            "Preparing to unpack .../tesseract-ocr-eng_1%3a4.00~git30-7274cfa-1.1_all.deb ...\n",
            "Unpacking tesseract-ocr-eng (1:4.00~git30-7274cfa-1.1) ...\n",
            "Selecting previously unselected package tesseract-ocr-osd.\n",
            "Preparing to unpack .../tesseract-ocr-osd_1%3a4.00~git30-7274cfa-1.1_all.deb ...\n",
            "Unpacking tesseract-ocr-osd (1:4.00~git30-7274cfa-1.1) ...\n",
            "Selecting previously unselected package tesseract-ocr.\n",
            "Preparing to unpack .../tesseract-ocr_4.1.1-2.1build1_amd64.deb ...\n",
            "Unpacking tesseract-ocr (4.1.1-2.1build1) ...\n",
            "Setting up tesseract-ocr-eng (1:4.00~git30-7274cfa-1.1) ...\n",
            "Setting up tesseract-ocr-osd (1:4.00~git30-7274cfa-1.1) ...\n",
            "Setting up tesseract-ocr (4.1.1-2.1build1) ...\n",
            "Processing triggers for man-db (2.10.2-1) ...\n",
            "Collecting pytesseract\n",
            "  Downloading pytesseract-0.3.10-py3-none-any.whl (14 kB)\n",
            "Requirement already satisfied: packaging>=21.3 in /usr/local/lib/python3.10/dist-packages (from pytesseract) (23.1)\n",
            "Requirement already satisfied: Pillow>=8.0.0 in /usr/local/lib/python3.10/dist-packages (from pytesseract) (9.4.0)\n",
            "Installing collected packages: pytesseract\n",
            "Successfully installed pytesseract-0.3.10\n"
          ]
        }
      ]
    },
    {
      "cell_type": "code",
      "source": [
        "!pip install datasets"
      ],
      "metadata": {
        "colab": {
          "base_uri": "https://localhost:8080/"
        },
        "id": "OZlCUgSEddoo",
        "outputId": "98c9bb00-7ae9-47ab-eadf-d3f32edff51e"
      },
      "execution_count": 3,
      "outputs": [
        {
          "output_type": "stream",
          "name": "stdout",
          "text": [
            "Collecting datasets\n",
            "  Downloading datasets-2.14.4-py3-none-any.whl (519 kB)\n",
            "\u001b[2K     \u001b[90m━━━━━━━━━━━━━━━━━━━━━━━━━━━━━━━━━━━━━━━\u001b[0m \u001b[32m519.3/519.3 kB\u001b[0m \u001b[31m6.1 MB/s\u001b[0m eta \u001b[36m0:00:00\u001b[0m\n",
            "\u001b[?25hRequirement already satisfied: numpy>=1.17 in /usr/local/lib/python3.10/dist-packages (from datasets) (1.23.5)\n",
            "Requirement already satisfied: pyarrow>=8.0.0 in /usr/local/lib/python3.10/dist-packages (from datasets) (9.0.0)\n",
            "Collecting dill<0.3.8,>=0.3.0 (from datasets)\n",
            "  Downloading dill-0.3.7-py3-none-any.whl (115 kB)\n",
            "\u001b[2K     \u001b[90m━━━━━━━━━━━━━━━━━━━━━━━━━━━━━━━━━━━━━━━\u001b[0m \u001b[32m115.3/115.3 kB\u001b[0m \u001b[31m9.1 MB/s\u001b[0m eta \u001b[36m0:00:00\u001b[0m\n",
            "\u001b[?25hRequirement already satisfied: pandas in /usr/local/lib/python3.10/dist-packages (from datasets) (1.5.3)\n",
            "Requirement already satisfied: requests>=2.19.0 in /usr/local/lib/python3.10/dist-packages (from datasets) (2.31.0)\n",
            "Requirement already satisfied: tqdm>=4.62.1 in /usr/local/lib/python3.10/dist-packages (from datasets) (4.66.1)\n",
            "Collecting xxhash (from datasets)\n",
            "  Downloading xxhash-3.3.0-cp310-cp310-manylinux_2_17_x86_64.manylinux2014_x86_64.whl (194 kB)\n",
            "\u001b[2K     \u001b[90m━━━━━━━━━━━━━━━━━━━━━━━━━━━━━━━━━━━━━━\u001b[0m \u001b[32m194.1/194.1 kB\u001b[0m \u001b[31m10.8 MB/s\u001b[0m eta \u001b[36m0:00:00\u001b[0m\n",
            "\u001b[?25hCollecting multiprocess (from datasets)\n",
            "  Downloading multiprocess-0.70.15-py310-none-any.whl (134 kB)\n",
            "\u001b[2K     \u001b[90m━━━━━━━━━━━━━━━━━━━━━━━━━━━━━━━━━━━━━━\u001b[0m \u001b[32m134.8/134.8 kB\u001b[0m \u001b[31m11.0 MB/s\u001b[0m eta \u001b[36m0:00:00\u001b[0m\n",
            "\u001b[?25hRequirement already satisfied: fsspec[http]>=2021.11.1 in /usr/local/lib/python3.10/dist-packages (from datasets) (2023.6.0)\n",
            "Requirement already satisfied: aiohttp in /usr/local/lib/python3.10/dist-packages (from datasets) (3.8.5)\n",
            "Collecting huggingface-hub<1.0.0,>=0.14.0 (from datasets)\n",
            "  Downloading huggingface_hub-0.16.4-py3-none-any.whl (268 kB)\n",
            "\u001b[2K     \u001b[90m━━━━━━━━━━━━━━━━━━━━━━━━━━━━━━━━━━━━━━\u001b[0m \u001b[32m268.8/268.8 kB\u001b[0m \u001b[31m14.5 MB/s\u001b[0m eta \u001b[36m0:00:00\u001b[0m\n",
            "\u001b[?25hRequirement already satisfied: packaging in /usr/local/lib/python3.10/dist-packages (from datasets) (23.1)\n",
            "Requirement already satisfied: pyyaml>=5.1 in /usr/local/lib/python3.10/dist-packages (from datasets) (6.0.1)\n",
            "Requirement already satisfied: attrs>=17.3.0 in /usr/local/lib/python3.10/dist-packages (from aiohttp->datasets) (23.1.0)\n",
            "Requirement already satisfied: charset-normalizer<4.0,>=2.0 in /usr/local/lib/python3.10/dist-packages (from aiohttp->datasets) (3.2.0)\n",
            "Requirement already satisfied: multidict<7.0,>=4.5 in /usr/local/lib/python3.10/dist-packages (from aiohttp->datasets) (6.0.4)\n",
            "Requirement already satisfied: async-timeout<5.0,>=4.0.0a3 in /usr/local/lib/python3.10/dist-packages (from aiohttp->datasets) (4.0.3)\n",
            "Requirement already satisfied: yarl<2.0,>=1.0 in /usr/local/lib/python3.10/dist-packages (from aiohttp->datasets) (1.9.2)\n",
            "Requirement already satisfied: frozenlist>=1.1.1 in /usr/local/lib/python3.10/dist-packages (from aiohttp->datasets) (1.4.0)\n",
            "Requirement already satisfied: aiosignal>=1.1.2 in /usr/local/lib/python3.10/dist-packages (from aiohttp->datasets) (1.3.1)\n",
            "Requirement already satisfied: filelock in /usr/local/lib/python3.10/dist-packages (from huggingface-hub<1.0.0,>=0.14.0->datasets) (3.12.2)\n",
            "Requirement already satisfied: typing-extensions>=3.7.4.3 in /usr/local/lib/python3.10/dist-packages (from huggingface-hub<1.0.0,>=0.14.0->datasets) (4.7.1)\n",
            "Requirement already satisfied: idna<4,>=2.5 in /usr/local/lib/python3.10/dist-packages (from requests>=2.19.0->datasets) (3.4)\n",
            "Requirement already satisfied: urllib3<3,>=1.21.1 in /usr/local/lib/python3.10/dist-packages (from requests>=2.19.0->datasets) (2.0.4)\n",
            "Requirement already satisfied: certifi>=2017.4.17 in /usr/local/lib/python3.10/dist-packages (from requests>=2.19.0->datasets) (2023.7.22)\n",
            "Requirement already satisfied: python-dateutil>=2.8.1 in /usr/local/lib/python3.10/dist-packages (from pandas->datasets) (2.8.2)\n",
            "Requirement already satisfied: pytz>=2020.1 in /usr/local/lib/python3.10/dist-packages (from pandas->datasets) (2023.3)\n",
            "Requirement already satisfied: six>=1.5 in /usr/local/lib/python3.10/dist-packages (from python-dateutil>=2.8.1->pandas->datasets) (1.16.0)\n",
            "Installing collected packages: xxhash, dill, multiprocess, huggingface-hub, datasets\n",
            "Successfully installed datasets-2.14.4 dill-0.3.7 huggingface-hub-0.16.4 multiprocess-0.70.15 xxhash-3.3.0\n"
          ]
        }
      ]
    },
    {
      "cell_type": "code",
      "source": [
        "!pip install transformers"
      ],
      "metadata": {
        "colab": {
          "base_uri": "https://localhost:8080/"
        },
        "id": "UcfGuG59sPft",
        "outputId": "dc52fb6c-3185-4d57-94b3-043776f6dd4a"
      },
      "execution_count": 4,
      "outputs": [
        {
          "output_type": "stream",
          "name": "stdout",
          "text": [
            "Collecting transformers\n",
            "  Downloading transformers-4.32.1-py3-none-any.whl (7.5 MB)\n",
            "\u001b[2K     \u001b[90m━━━━━━━━━━━━━━━━━━━━━━━━━━━━━━━━━━━━━━━━\u001b[0m \u001b[32m7.5/7.5 MB\u001b[0m \u001b[31m27.4 MB/s\u001b[0m eta \u001b[36m0:00:00\u001b[0m\n",
            "\u001b[?25hRequirement already satisfied: filelock in /usr/local/lib/python3.10/dist-packages (from transformers) (3.12.2)\n",
            "Requirement already satisfied: huggingface-hub<1.0,>=0.15.1 in /usr/local/lib/python3.10/dist-packages (from transformers) (0.16.4)\n",
            "Requirement already satisfied: numpy>=1.17 in /usr/local/lib/python3.10/dist-packages (from transformers) (1.23.5)\n",
            "Requirement already satisfied: packaging>=20.0 in /usr/local/lib/python3.10/dist-packages (from transformers) (23.1)\n",
            "Requirement already satisfied: pyyaml>=5.1 in /usr/local/lib/python3.10/dist-packages (from transformers) (6.0.1)\n",
            "Requirement already satisfied: regex!=2019.12.17 in /usr/local/lib/python3.10/dist-packages (from transformers) (2023.6.3)\n",
            "Requirement already satisfied: requests in /usr/local/lib/python3.10/dist-packages (from transformers) (2.31.0)\n",
            "Collecting tokenizers!=0.11.3,<0.14,>=0.11.1 (from transformers)\n",
            "  Downloading tokenizers-0.13.3-cp310-cp310-manylinux_2_17_x86_64.manylinux2014_x86_64.whl (7.8 MB)\n",
            "\u001b[2K     \u001b[90m━━━━━━━━━━━━━━━━━━━━━━━━━━━━━━━━━━━━━━━━\u001b[0m \u001b[32m7.8/7.8 MB\u001b[0m \u001b[31m81.9 MB/s\u001b[0m eta \u001b[36m0:00:00\u001b[0m\n",
            "\u001b[?25hCollecting safetensors>=0.3.1 (from transformers)\n",
            "  Downloading safetensors-0.3.3-cp310-cp310-manylinux_2_17_x86_64.manylinux2014_x86_64.whl (1.3 MB)\n",
            "\u001b[2K     \u001b[90m━━━━━━━━━━━━━━━━━━━━━━━━━━━━━━━━━━━━━━━━\u001b[0m \u001b[32m1.3/1.3 MB\u001b[0m \u001b[31m32.1 MB/s\u001b[0m eta \u001b[36m0:00:00\u001b[0m\n",
            "\u001b[?25hRequirement already satisfied: tqdm>=4.27 in /usr/local/lib/python3.10/dist-packages (from transformers) (4.66.1)\n",
            "Requirement already satisfied: fsspec in /usr/local/lib/python3.10/dist-packages (from huggingface-hub<1.0,>=0.15.1->transformers) (2023.6.0)\n",
            "Requirement already satisfied: typing-extensions>=3.7.4.3 in /usr/local/lib/python3.10/dist-packages (from huggingface-hub<1.0,>=0.15.1->transformers) (4.7.1)\n",
            "Requirement already satisfied: charset-normalizer<4,>=2 in /usr/local/lib/python3.10/dist-packages (from requests->transformers) (3.2.0)\n",
            "Requirement already satisfied: idna<4,>=2.5 in /usr/local/lib/python3.10/dist-packages (from requests->transformers) (3.4)\n",
            "Requirement already satisfied: urllib3<3,>=1.21.1 in /usr/local/lib/python3.10/dist-packages (from requests->transformers) (2.0.4)\n",
            "Requirement already satisfied: certifi>=2017.4.17 in /usr/local/lib/python3.10/dist-packages (from requests->transformers) (2023.7.22)\n",
            "Installing collected packages: tokenizers, safetensors, transformers\n",
            "Successfully installed safetensors-0.3.3 tokenizers-0.13.3 transformers-4.32.1\n"
          ]
        }
      ]
    },
    {
      "cell_type": "code",
      "source": [
        "import pytesseract\n",
        "import shutil\n",
        "import os\n",
        "import random\n",
        "try:\n",
        " from PIL import Image\n",
        "except ImportError:\n",
        " import Image\n",
        "\n",
        "import os\n",
        "import pandas as pd\n",
        "import numpy as np\n",
        "\n",
        "import pytesseract\n",
        "from PIL import ImageEnhance, ImageFilter, Image, ImageDraw, ImageFont"
      ],
      "metadata": {
        "id": "Rc0VVpYjTzWe"
      },
      "execution_count": 5,
      "outputs": []
    },
    {
      "cell_type": "code",
      "execution_count": 6,
      "metadata": {
        "id": "ow918ZlAO468"
      },
      "outputs": [],
      "source": [
        "image = Image.open(\"/content/drive/MyDrive/LayoutLMCLF/docs_data/flipkart_invoice/OD110310456349613000_0.png\")\n",
        "image = image.convert(\"RGB\")\n",
        "\n",
        "ocr_df = pytesseract.image_to_data(image, output_type='data.frame',)\n",
        "ocr_df = ocr_df.dropna().reset_index(drop=True)\n",
        "float_cols = ocr_df.select_dtypes('float').columns\n",
        "ocr_df[float_cols] = ocr_df[float_cols].round(0).astype(int)\n",
        "ocr_df = ocr_df.replace(r'^\\s*$', np.nan, regex=True)\n",
        "words = ' '.join([word for word in ocr_df.text if str(word) != 'nan'])"
      ]
    },
    {
      "cell_type": "code",
      "execution_count": 7,
      "metadata": {
        "colab": {
          "base_uri": "https://localhost:8080/",
          "height": 140
        },
        "id": "qLPraS1IO46-",
        "outputId": "6955877f-948b-4d2c-abdd-b554080cabb6"
      },
      "outputs": [
        {
          "output_type": "execute_result",
          "data": {
            "text/plain": [
              "'Tax Invoice | Order Id: 0D110310456349613000 Invoice No: FAA2LS1800115824 —_GSTIN: O7AKYPG9978R1Z1 Order Date: 24-09-2017, 04:04 PM Invoice Date: 2017-09-27, 01:31 PM PAN: AKYPG9S7BR Sold By Shipping ADDRESS Billing Address APEKSHA INTERNATIONAL, Ganesh Lokhande, Goresh LokFarse, Coley2,, Lawrerce Roas iru strial Area,Nce Doli, NEW 529, 520, DELH.- 110035 Ambewadi, Roha, Ambowasi, Roba GST: O7AKYPG9978R1Z1 Hanuman temple, Harmar temple, Raigarh District - 402304, IN-MH Raigart District 402304, n-H, Gross ; Taxable Product Description Qty amount Discount TYAN IGsT Total Oricum COMBO(O}-383+ 349 Loaters Blue & Black 7 | COMBO(O}-383-349-7 | 30 day HSN: 640daaaa | IGST: 5% 1 459 “0 437.14 21.86 459 Exchange Guarantee Shipping and Handling 1 40.0 0 38.1 18 40.0 Charges TOTAL PRICE: 499 TOTAL QTY: 1 All values are in INR Seller Registered Address: APEKSHA INTERNATIONAL, Cau, Laeterce Ras Ireustrial Arca.New, Delhi, NEW DELHI - 130035 Declaration ‘The ga0es solb arcirterece for ero user corsumplice are rol for resale. + Conditions Apply. Please refer to the product page for more details Ordered Through EB OE. Flpkart fi APEKSHA INTERNATIONAL Authorized Signature'"
            ],
            "application/vnd.google.colaboratory.intrinsic+json": {
              "type": "string"
            }
          },
          "metadata": {},
          "execution_count": 7
        }
      ],
      "source": [
        "words"
      ]
    },
    {
      "cell_type": "markdown",
      "metadata": {
        "id": "14wc5kYoO46_"
      },
      "source": [
        "## Visualize the bounding boxes for recognized words"
      ]
    },
    {
      "cell_type": "code",
      "execution_count": 8,
      "metadata": {
        "colab": {
          "base_uri": "https://localhost:8080/",
          "height": 1000
        },
        "id": "Zy3vm6YQO46_",
        "outputId": "72fb2774-bdd6-4f9a-c315-da7a30f548e0"
      },
      "outputs": [
        {
          "output_type": "execute_result",
          "data": {
            "text/plain": [
              "<PIL.Image.Image image mode=RGB size=1240x1755>"
            ],
            "image/png": "[encoded data removed]"
          },
          "metadata": {},
          "execution_count": 8
        }
      ],
      "source": [
        "coordinates = ocr_df[['left', 'top', 'width', 'height']]\n",
        "actual_boxes = []\n",
        "for idx, row in coordinates.iterrows():\n",
        "    x, y, w, h = tuple(row) # the row comes in (left, top, width, height) format\n",
        "    actual_box = [x, y, x+w, y+h] # we turn it into (left, top, left+width, top+height) to get the actual box\n",
        "    actual_boxes.append(actual_box)\n",
        "\n",
        "draw = ImageDraw.Draw(image, \"RGB\")\n",
        "for box in actual_boxes:\n",
        "  draw.rectangle(box, outline='red')\n",
        "\n",
        "image"
      ]
    },
    {
      "cell_type": "markdown",
      "metadata": {
        "id": "FaVkOxVgO47A"
      },
      "source": [
        "## Preprocess the data using dataframe"
      ]
    },
    {
      "cell_type": "markdown",
      "metadata": {
        "id": "-HqzLnh6O47A"
      },
      "source": [
        "convert the dataset into a Pandas dataframe, having 2 columns: image_path and label."
      ]
    },
    {
      "cell_type": "code",
      "execution_count": 9,
      "metadata": {
        "id": "DeUYuDFlO47A"
      },
      "outputs": [],
      "source": [
        "dataset_path = \"/content/drive/MyDrive/Invoice_Extraction/docs_data\""
      ]
    },
    {
      "cell_type": "code",
      "source": [
        "image_path = []\n",
        "\n",
        "for filename in os.listdir(dataset_path):\n",
        "  # print(filename)\n",
        "  image_path.append(dataset_path + '/' + filename)\n",
        "\n",
        "data = pd.DataFrame({'image':image_path})\n",
        "data.head()"
      ],
      "metadata": {
        "colab": {
          "base_uri": "https://localhost:8080/",
          "height": 206
        },
        "id": "wHrlVs_loj_L",
        "outputId": "f697c230-1262-4042-e05c-2cff89e82902"
      },
      "execution_count": 12,
      "outputs": [
        {
          "output_type": "execute_result",
          "data": {
            "text/plain": [
              "                                               image\n",
              "0  /content/drive/MyDrive/Invoice_Extraction/docs...\n",
              "1  /content/drive/MyDrive/Invoice_Extraction/docs...\n",
              "2  /content/drive/MyDrive/Invoice_Extraction/docs...\n",
              "3  /content/drive/MyDrive/Invoice_Extraction/docs...\n",
              "4  /content/drive/MyDrive/Invoice_Extraction/docs..."
            ],
            "text/html": [
              "\n",
              "  <div id=\"df-18ca54cd-7bad-4535-ae17-d407f408d64b\" class=\"colab-df-container\">\n",
              "    <div>\n",
              "<style scoped>\n",
              "    .dataframe tbody tr th:only-of-type {\n",
              "        vertical-align: middle;\n",
              "    }\n",
              "\n",
              "    .dataframe tbody tr th {\n",
              "        vertical-align: top;\n",
              "    }\n",
              "\n",
              "    .dataframe thead th {\n",
              "        text-align: right;\n",
              "    }\n",
              "</style>\n",
              "<table border=\"1\" class=\"dataframe\">\n",
              "  <thead>\n",
              "    <tr style=\"text-align: right;\">\n",
              "      <th></th>\n",
              "      <th>image</th>\n",
              "    </tr>\n",
              "  </thead>\n",
              "  <tbody>\n",
              "    <tr>\n",
              "      <th>0</th>\n",
              "      <td>/content/drive/MyDrive/Invoice_Extraction/docs...</td>\n",
              "    </tr>\n",
              "    <tr>\n",
              "      <th>1</th>\n",
              "      <td>/content/drive/MyDrive/Invoice_Extraction/docs...</td>\n",
              "    </tr>\n",
              "    <tr>\n",
              "      <th>2</th>\n",
              "      <td>/content/drive/MyDrive/Invoice_Extraction/docs...</td>\n",
              "    </tr>\n",
              "    <tr>\n",
              "      <th>3</th>\n",
              "      <td>/content/drive/MyDrive/Invoice_Extraction/docs...</td>\n",
              "    </tr>\n",
              "    <tr>\n",
              "      <th>4</th>\n",
              "      <td>/content/drive/MyDrive/Invoice_Extraction/docs...</td>\n",
              "    </tr>\n",
              "  </tbody>\n",
              "</table>\n",
              "</div>\n",
              "    <div class=\"colab-df-buttons\">\n",
              "\n",
              "  <div class=\"colab-df-container\">\n",
              "    <button class=\"colab-df-convert\" onclick=\"convertToInteractive('df-18ca54cd-7bad-4535-ae17-d407f408d64b')\"\n",
              "            title=\"Convert this dataframe to an interactive table.\"\n",
              "            style=\"display:none;\">\n",
              "\n",
              "  <svg xmlns=\"http://www.w3.org/2000/svg\" height=\"24px\" viewBox=\"0 -960 960 960\">\n",
              "    <path d=\"M120-120v-720h720v720H120Zm60-500h600v-160H180v160Zm220 220h160v-160H400v160Zm0 220h160v-160H400v160ZM180-400h160v-160H180v160Zm440 0h160v-160H620v160ZM180-180h160v-160H180v160Zm440 0h160v-160H620v160Z\"/>\n",
              "  </svg>\n",
              "    </button>\n",
              "\n",
              "  <style>\n",
              "    .colab-df-container {\n",
              "      display:flex;\n",
              "      gap: 12px;\n",
              "    }\n",
              "\n",
              "    .colab-df-convert {\n",
              "      background-color: #E8F0FE;\n",
              "      border: none;\n",
              "      border-radius: 50%;\n",
              "      cursor: pointer;\n",
              "      display: none;\n",
              "      fill: #1967D2;\n",
              "      height: 32px;\n",
              "      padding: 0 0 0 0;\n",
              "      width: 32px;\n",
              "    }\n",
              "\n",
              "    .colab-df-convert:hover {\n",
              "      background-color: #E2EBFA;\n",
              "      box-shadow: 0px 1px 2px rgba(60, 64, 67, 0.3), 0px 1px 3px 1px rgba(60, 64, 67, 0.15);\n",
              "      fill: #174EA6;\n",
              "    }\n",
              "\n",
              "    .colab-df-buttons div {\n",
              "      margin-bottom: 4px;\n",
              "    }\n",
              "\n",
              "    [theme=dark] .colab-df-convert {\n",
              "      background-color: #3B4455;\n",
              "      fill: #D2E3FC;\n",
              "    }\n",
              "\n",
              "    [theme=dark] .colab-df-convert:hover {\n",
              "      background-color: #434B5C;\n",
              "      box-shadow: 0px 1px 3px 1px rgba(0, 0, 0, 0.15);\n",
              "      filter: drop-shadow(0px 1px 2px rgba(0, 0, 0, 0.3));\n",
              "      fill: #FFFFFF;\n",
              "    }\n",
              "  </style>\n",
              "\n",
              "    <script>\n",
              "      const buttonEl =\n",
              "        document.querySelector('#df-18ca54cd-7bad-4535-ae17-d407f408d64b button.colab-df-convert');\n",
              "      buttonEl.style.display =\n",
              "        google.colab.kernel.accessAllowed ? 'block' : 'none';\n",
              "\n",
              "      async function convertToInteractive(key) {\n",
              "        const element = document.querySelector('#df-18ca54cd-7bad-4535-ae17-d407f408d64b');\n",
              "        const dataTable =\n",
              "          await google.colab.kernel.invokeFunction('convertToInteractive',\n",
              "                                                    [key], {});\n",
              "        if (!dataTable) return;\n",
              "\n",
              "        const docLinkHtml = 'Like what you see? Visit the ' +\n",
              "          '<a target=\"_blank\" href=https://colab.research.google.com/notebooks/data_table.ipynb>data table notebook</a>'\n",
              "          + ' to learn more about interactive tables.';\n",
              "        element.innerHTML = '';\n",
              "        dataTable['output_type'] = 'display_data';\n",
              "        await google.colab.output.renderOutput(dataTable, element);\n",
              "        const docLink = document.createElement('div');\n",
              "        docLink.innerHTML = docLinkHtml;\n",
              "        element.appendChild(docLink);\n",
              "      }\n",
              "    </script>\n",
              "  </div>\n",
              "\n",
              "\n",
              "<div id=\"df-b7d142b2-70f8-4b50-981e-ce358ccd025f\">\n",
              "  <button class=\"colab-df-quickchart\" onclick=\"quickchart('df-b7d142b2-70f8-4b50-981e-ce358ccd025f')\"\n",
              "            title=\"Suggest charts.\"\n",
              "            style=\"display:none;\">\n",
              "\n",
              "<svg xmlns=\"http://www.w3.org/2000/svg\" height=\"24px\"viewBox=\"0 0 24 24\"\n",
              "     width=\"24px\">\n",
              "    <g>\n",
              "        <path d=\"M19 3H5c-1.1 0-2 .9-2 2v14c0 1.1.9 2 2 2h14c1.1 0 2-.9 2-2V5c0-1.1-.9-2-2-2zM9 17H7v-7h2v7zm4 0h-2V7h2v10zm4 0h-2v-4h2v4z\"/>\n",
              "    </g>\n",
              "</svg>\n",
              "  </button>\n",
              "\n",
              "<style>\n",
              "  .colab-df-quickchart {\n",
              "    background-color: #E8F0FE;\n",
              "    border: none;\n",
              "    border-radius: 50%;\n",
              "    cursor: pointer;\n",
              "    display: none;\n",
              "    fill: #1967D2;\n",
              "    height: 32px;\n",
              "    padding: 0 0 0 0;\n",
              "    width: 32px;\n",
              "  }\n",
              "\n",
              "  .colab-df-quickchart:hover {\n",
              "    background-color: #E2EBFA;\n",
              "    box-shadow: 0px 1px 2px rgba(60, 64, 67, 0.3), 0px 1px 3px 1px rgba(60, 64, 67, 0.15);\n",
              "    fill: #174EA6;\n",
              "  }\n",
              "\n",
              "  [theme=dark] .colab-df-quickchart {\n",
              "    background-color: #3B4455;\n",
              "    fill: #D2E3FC;\n",
              "  }\n",
              "\n",
              "  [theme=dark] .colab-df-quickchart:hover {\n",
              "    background-color: #434B5C;\n",
              "    box-shadow: 0px 1px 3px 1px rgba(0, 0, 0, 0.15);\n",
              "    filter: drop-shadow(0px 1px 2px rgba(0, 0, 0, 0.3));\n",
              "    fill: #FFFFFF;\n",
              "  }\n",
              "</style>\n",
              "\n",
              "  <script>\n",
              "    async function quickchart(key) {\n",
              "      const charts = await google.colab.kernel.invokeFunction(\n",
              "          'suggestCharts', [key], {});\n",
              "    }\n",
              "    (() => {\n",
              "      let quickchartButtonEl =\n",
              "        document.querySelector('#df-b7d142b2-70f8-4b50-981e-ce358ccd025f button');\n",
              "      quickchartButtonEl.style.display =\n",
              "        google.colab.kernel.accessAllowed ? 'block' : 'none';\n",
              "    })();\n",
              "  </script>\n",
              "</div>\n",
              "    </div>\n",
              "  </div>\n"
            ]
          },
          "metadata": {},
          "execution_count": 12
        }
      ]
    },
    {
      "cell_type": "markdown",
      "metadata": {
        "id": "jdJNnPR7O47B"
      },
      "source": [
        "### get words and bounding boxes for every image file. for this we use Huggingface dataset and .map function and also normalized the bounding boxes of every image (Tesseract)"
      ]
    },
    {
      "cell_type": "code",
      "execution_count": 13,
      "metadata": {
        "colab": {
          "base_uri": "https://localhost:8080/",
          "height": 49,
          "referenced_widgets": [
            "45676a8a74c54213b48ae6fd52f698b1",
            "3f933a42e7294537a2a953fbd368fd31",
            "9ec73a22e5864d3590c6415a3370d156",
            "76abede776b644c893f0fc4a3a46bd62",
            "2bd2eca954294bdb8196e0f397dafc0c",
            "1307207ed73143b89c422babdf8cf79d",
            "de05728cb9f9496fa544560bf8cf5077",
            "a116a39cebfd4620bd34cf9cd905605f",
            "440779a94a2d43cc87d5a38b8f2f8b5c",
            "54583f2b5ad5444da6cb04d61ec0e734",
            "a95f269272114b1b8d208509ca3e9ab2"
          ]
        },
        "id": "H95wqPdiO47C",
        "outputId": "630afec1-03c7-485c-afc2-66f06caad734"
      },
      "outputs": [
        {
          "output_type": "display_data",
          "data": {
            "text/plain": [
              "Map:   0%|          | 0/95 [00:00<?, ? examples/s]"
            ],
            "application/vnd.jupyter.widget-view+json": {
              "version_major": 2,
              "version_minor": 0,
              "model_id": "45676a8a74c54213b48ae6fd52f698b1"
            }
          },
          "metadata": {}
        }
      ],
      "source": [
        "from datasets import Dataset\n",
        "\n",
        "def normalize_box(box, width, height):\n",
        "     return [\n",
        "         int(1000 * (box[0] / width)),\n",
        "         int(1000 * (box[1] / height)),\n",
        "         int(1000 * (box[2] / width)),\n",
        "         int(1000 * (box[3] / height)),\n",
        "     ]\n",
        "\n",
        "def apply_ocr(example):\n",
        "        # get the image\n",
        "        image = Image.open(example['image'])\n",
        "        fname = example['image'].split('/')[-1]\n",
        "        width, height = image.size\n",
        "\n",
        "        # apply ocr to the image\n",
        "        ocr_df = pytesseract.image_to_data(image, output_type='data.frame')\n",
        "        float_cols = ocr_df.select_dtypes('float').columns\n",
        "        ocr_df = ocr_df.dropna().reset_index(drop=True)\n",
        "        ocr_df[float_cols] = ocr_df[float_cols].round(0).astype(int)\n",
        "        ocr_df = ocr_df.replace(r'^\\s*$', np.nan, regex=True)\n",
        "        ocr_df = ocr_df.dropna().reset_index(drop=True)\n",
        "\n",
        "        # get the words and actual (unnormalized) bounding boxes\n",
        "        #words = [word for word in ocr_df.text if str(word) != 'nan'])\n",
        "        words = list(ocr_df.text)\n",
        "        words = [str(w) for w in words]\n",
        "        coordinates = ocr_df[['left', 'top', 'width', 'height']]\n",
        "        actual_boxes = []\n",
        "        for idx, row in coordinates.iterrows():\n",
        "            x, y, w, h = tuple(row) # the row comes in (left, top, width, height) format\n",
        "            actual_box = [x, y, x+w, y+h] # we turn it into (left, top, left+width, top+height) to get the actual box\n",
        "            actual_boxes.append(actual_box)\n",
        "\n",
        "        # image = Image.open(dataset_path)\n",
        "        # # normalize the bounding boxes\n",
        "        # boxes = []\n",
        "        # for box in actual_boxes:\n",
        "        #     boxes.append(normalize_box(box, width, height))\n",
        "\n",
        "        # image = image.convert(\"RGB\")\n",
        "        # draw = ImageDraw.Draw(image, \"RGB\")\n",
        "        # for box in actual_boxes:\n",
        "        #   draw.rectangle(box, outline='red')\n",
        "\n",
        "        # new_path = os.path.join('/content/drive/MyDrive/Invoice_Extraction/ann_data',fname)\n",
        "        # image.save(new_path)\n",
        "\n",
        "        # add as extra columns\n",
        "        assert len(words) == len(actual_boxes)\n",
        "        example['words'] = words\n",
        "        example['bbox'] = actual_boxes\n",
        "        # example['image'] = new_path\n",
        "        return example\n",
        "\n",
        "dataset = Dataset.from_pandas(data)\n",
        "updated_dataset = dataset.map(apply_ocr,)"
      ]
    },
    {
      "cell_type": "code",
      "execution_count": 15,
      "metadata": {
        "colab": {
          "base_uri": "https://localhost:8080/"
        },
        "id": "4v-dF-qaO47C",
        "outputId": "991a17cd-c6ab-476e-a111-917560d91eac"
      },
      "outputs": [
        {
          "output_type": "execute_result",
          "data": {
            "text/plain": [
              "Dataset({\n",
              "    features: ['image', 'words', 'bbox'],\n",
              "    num_rows: 95\n",
              "})"
            ]
          },
          "metadata": {},
          "execution_count": 15
        }
      ],
      "source": [
        "updated_dataset"
      ]
    },
    {
      "cell_type": "markdown",
      "metadata": {
        "id": "2w__q0xGO47D"
      },
      "source": [
        "## observe the data"
      ]
    },
    {
      "cell_type": "code",
      "execution_count": 16,
      "metadata": {
        "colab": {
          "base_uri": "https://localhost:8080/"
        },
        "id": "UEDGVmV5O47D",
        "outputId": "5cab46f8-98ea-4da1-dbc7-b6c3a9be78c5"
      },
      "outputs": [
        {
          "output_type": "stream",
          "name": "stdout",
          "text": [
            "317\n",
            "['Tax', 'Invoice', 'Sold', 'By:', 'Tech-Connect', 'Retail', 'Private', 'Limited', ',', 'i', 'Invoice', 'Number', '#', 'FAA9Q31900421758', 'i', 'Ship-from', 'Address:', 'Avaashya', 'CCI', 'Logistics', 'Lid', 'Renaissance', 'Industrial', 'Park', 'Building', 'no.', 'B', '2,Kalyan-', 'Padgha', 'road,', 'Kalyan-', 'Padgha', ':', 'road,', 'Village-Vashere,', 'Bhiwandi.,', 'Thane,', 'Maharashtra,', 'India', '-', '421302,', 'IN-MH', 'GSTIN', '-', '27AAICA4872D1Z0', 'Order', 'ID:', 'OD112860337304468000', 'pi', 'To', 'Ship', 'To', 'Order', 'Date:', '16-07-2018', 'Dhananjay', 'Devidas', 'Lokhande', 'Dhananjay', 'Devidas', 'Lokhande', 'Boys', 'hostel,', 'Vishwaniketan', 'imeet', 'Boys', 'hostel,', 'Vishwaniketan', 'imeet', '*Keep', 'this', 'invoice', 'and', 'Invoice', 'Date:', '17-07-2018', 'college', ',', 'dhamani,kumbhivali,', 'college', ',', 'dhamani,kumbhivali,', 'manufacturer', 'box', 'for', 'PAN:', 'AAICA4872D', 'Khalapur,kumbhivali.', 'Khalapur,kumbhivali.', 'warranty', 'purposes.', 'Khopoli', '410202', 'Maharashtra', 'Khopoli', '410202', 'Maharashtra', 'CIN:', 'U52700D120710PTC202600', 'phone:', '8087350450', 'Phone:', '8087350450', 'Total', 'items:', '1', 'Product', 'Title', 'Qty', 'Gross', 'Discount®', 'Taxable', 'CGST%', 'SGST', 'Total', '€', 'Amount', '=', 'Value', '=', '/UTGST', 'z', 'Gaming', 'Laptops', 'Acer', 'Predator', 'Helios', '300', '1', '89990.00', '-23000.00', '56771.18', '5109.40', '5109.40', '66990.00', 'FSN:', 'Core', 'id', '8th', 'Gen', '-', '(8', 'GB/1', 'COMFS5NVPQAZDMZFB)', '=', 'TB', 'HDD/128', 'GB', 'SSD', 'HSN/SAC:', '84713010', '{Windows', '10', 'Home/4', 'GB', 'Graphics)', 'PH315-51', 'Gaming', 'Laptop', 'Warranty:', '1', 'Year', 'International', 'Travelers', 'Warranty', 'aw)', '1,', '[IMEV/Serial', 'No:', 'NHQ3HSIO1', '4826063BC3400]', 'CGST:', '9.000', '%', 'SGST/UTGST:', '9.000', '%', 'Total', '1', '89990.00', '-23000.00', '56771.18', '5109.40', '5109.40', '66990.00', 'Grand', 'Total', '=', '66990.00', 'Tech-Connect', 'Retail', 'Private', 'Limited', 'Authorized', 'Signatory', 'Flipkart', 'Thank', 'You!', 'forshopains', 'wih', 'us', 'Returns', 'Policy:', '4:', 'Ftipkare', 'we', 'wry', 'to', 'deliver', 'perfectly', 'each', 'and', 'every', 'time.', 'Bul', 'in', 'the', 'off-chance', 'that', 'you', 'need', '(o', 'return', 'the', 'item,', 'please', 'do', 'so', 'with', 'the', 'original', 'Brand', 'box/price', 'tag,', 'original', 'packing', 'and', 'invoice', 'wihou', 'which', 'i', 'will', 'be', 'really', 'difficult', 'for', 'us', 'to', 'act', 'on', 'your', 'request.', 'Please', 'help', 'ts', 'in', 'helping', 'you.', 'Terms', 'and', 'conditions', 'apply.', 'The', 'goods', 'sold', 'as', 'are', 'intended', 'for', 'end', 'wer', 'consumption', 'and', 'not', 'for', 're-sale.', 'Regd.', 'office:', 'Tech-Connect', 'Retail', 'Private', 'Limited,', 'Unit', 'No.', '403,', '4th', 'Floor', 'Baani', 'I,', 'Next', 'to', 'Hilton,', 'Double', 'Tree', 'Hotel', 'Golf', 'Course', 'Road,', 'Sec', '56,', 'Gurgaon,', 'Haryana', '-', '122011', 'Contact', 'Flipkart:', '1800', '208', '9898', '||', 'www.flipkart.com/helpcentre', 'E.&', '0.', 'page', '1', 'of', '1']\n"
          ]
        }
      ],
      "source": [
        "df = pd.DataFrame.from_dict(updated_dataset)\n",
        "print(len(df[\"words\"][0]))\n",
        "print(df[\"words\"][0])"
      ]
    },
    {
      "cell_type": "code",
      "execution_count": 17,
      "metadata": {
        "colab": {
          "base_uri": "https://localhost:8080/"
        },
        "id": "Z5Wz4fGeO47D",
        "outputId": "6550a773-f9d7-4098-e2bc-6cf6b4b4be5d"
      },
      "outputs": [
        {
          "output_type": "stream",
          "name": "stdout",
          "text": [
            "317\n",
            "[[538, 26, 580, 44], [588, 25, 667, 44], [25, 55, 60, 69], [67, 56, 91, 73], [97, 55, 216, 69], [222, 55, 268, 69], [275, 55, 334, 69], [340, 55, 410, 72], [402, 51, 411, 77], [860, 75, 861, 78], [868, 64, 928, 77], [934, 63, 1000, 77], [1006, 65, 1015, 77], [1009, 46, 1174, 83], [1180, 67, 1181, 71], [25, 82, 89, 96], [93, 73, 148, 103], [153, 73, 212, 103], [216, 83, 240, 93], [245, 83, 296, 96], [302, 83, 321, 93], [325, 83, 396, 93], [401, 83, 458, 93], [463, 83, 490, 93], [495, 83, 544, 96], [548, 86, 562, 93], [570, 83, 578, 93], [582, 83, 639, 96], [645, 83, 689, 96], [693, 83, 722, 95], [729, 83, 774, 96], [780, 83, 824, 96], [1180, 78, 1181, 82], [24, 108, 52, 120], [60, 108, 155, 121], [162, 108, 222, 120], [229, 108, 266, 120], [273, 108, 350, 120], [357, 108, 386, 118], [391, 114, 394, 115], [399, 108, 444, 120], [451, 108, 493, 118], [25, 132, 77, 145], [82, 139, 87, 140], [93, 132, 256, 145], [25, 182, 70, 196], [76, 183, 96, 196], [103, 183, 321, 196], [343, 188, 367, 202], [373, 189, 395, 202], [668, 188, 703, 206], [708, 189, 730, 202], [25, 218, 71, 232], [77, 219, 118, 232], [125, 219, 218, 232], [343, 213, 430, 231], [436, 213, 500, 227], [507, 213, 589, 227], [668, 213, 754, 231], [760, 213, 825, 227], [831, 213, 913, 227], [344, 239, 381, 256], [388, 238, 441, 255], [446, 238, 567, 252], [574, 238, 619, 252], [669, 239, 706, 256], [712, 238, 765, 255], [771, 238, 892, 252], [899, 238, 944, 252], [1008, 241, 1044, 255], [1048, 241, 1072, 252], [1076, 241, 1121, 252], [1126, 241, 1151, 252], [25, 255, 84, 269], [90, 256, 132, 269], [139, 256, 232, 269], [343, 263, 400, 281], [406, 275, 409, 280], [416, 263, 584, 280], [668, 263, 733, 281], [726, 255, 737, 285], [740, 263, 908, 280], [1013, 266, 1101, 277], [1105, 266, 1129, 277], [1133, 266, 1150, 277], [25, 293, 66, 306], [71, 293, 179, 306], [335, 284, 513, 310], [660, 284, 837, 310], [1024, 284, 1086, 310], [1089, 284, 1152, 310], [344, 313, 403, 331], [409, 314, 472, 327], [480, 313, 583, 327], [669, 313, 727, 331], [733, 314, 796, 327], [804, 313, 907, 327], [25, 330, 59, 343], [65, 330, 291, 343], [344, 338, 397, 352], [404, 339, 508, 352], [669, 338, 722, 352], [729, 339, 832, 352], [12, 377, 52, 391], [59, 377, 108, 391], [117, 378, 122, 391], [10, 406, 84, 432], [212, 406, 261, 432], [564, 407, 592, 433], [618, 407, 676, 433], [713, 410, 801, 424], [835, 410, 902, 424], [937, 411, 999, 424], [1027, 411, 1073, 424], [1113, 410, 1155, 424], [1161, 411, 1171, 424], [612, 436, 678, 449], [683, 436, 693, 449], [837, 435, 885, 449], [890, 436, 900, 449], [1014, 436, 1080, 450], [1045, 461, 1055, 474], [19, 512, 74, 527], [80, 512, 139, 527], [223, 510, 265, 525], [272, 509, 352, 525], [359, 509, 417, 525], [424, 510, 458, 525], [574, 511, 579, 524], [614, 511, 690, 524], [715, 511, 797, 524], [830, 511, 907, 524], [934, 511, 1000, 524], [1017, 511, 1082, 524], [1104, 511, 1180, 524], [19, 529, 52, 559], [224, 536, 267, 551], [273, 536, 289, 551], [296, 535, 325, 551], [332, 536, 367, 551], [374, 543, 380, 546], [387, 534, 405, 556], [412, 536, 454, 552], [19, 562, 192, 576], [206, 558, 215, 583], [223, 562, 247, 577], [254, 562, 339, 578], [346, 562, 371, 577], [378, 562, 416, 577], [20, 586, 101, 600], [108, 586, 191, 599], [223, 587, 314, 604], [322, 588, 343, 603], [350, 588, 424, 604], [432, 588, 457, 603], [224, 612, 312, 634], [320, 614, 411, 629], [224, 640, 294, 659], [302, 640, 365, 659], [223, 667, 283, 681], [289, 667, 293, 678], [299, 658, 323, 688], [325, 667, 412, 678], [417, 667, 477, 678], [481, 667, 540, 681], [224, 691, 257, 706], [224, 717, 233, 728], [238, 716, 311, 730], [318, 717, 339, 728], [225, 740, 329, 758], [335, 740, 498, 757], [224, 769, 263, 780], [269, 769, 303, 780], [309, 769, 318, 780], [223, 794, 315, 806], [321, 794, 355, 805], [361, 794, 370, 805], [354, 861, 406, 888], [562, 866, 567, 879], [613, 866, 692, 879], [714, 866, 800, 879], [829, 866, 908, 879], [933, 866, 1001, 879], [1016, 866, 1084, 879], [1103, 866, 1182, 879], [791, 940, 855, 959], [864, 940, 918, 959], [1062, 941, 1073, 959], [1081, 941, 1186, 959], [891, 985, 1004, 999], [1012, 985, 1055, 999], [1064, 985, 1119, 999], [1127, 985, 1186, 999], [957, 1147, 1045, 1161], [1053, 1147, 1131, 1165], [1052, 1396, 1132, 1417], [1064, 1427, 1117, 1444], [1122, 1427, 1160, 1444], [1066, 1446, 1124, 1457], [1129, 1446, 1146, 1455], [1150, 1449, 1160, 1455], [31, 1496, 94, 1509], [101, 1495, 152, 1513], [160, 1499, 173, 1509], [178, 1499, 224, 1512], [229, 1502, 244, 1509], [249, 1501, 264, 1512], [269, 1501, 279, 1509], [283, 1499, 324, 1509], [327, 1499, 378, 1512], [382, 1499, 410, 1509], [410, 1491, 435, 1517], [439, 1491, 467, 1517], [475, 1501, 501, 1509], [508, 1499, 527, 1509], [532, 1502, 542, 1509], [547, 1499, 563, 1509], [567, 1499, 629, 1512], [634, 1499, 655, 1509], [658, 1502, 680, 1512], [684, 1499, 712, 1509], [716, 1501, 726, 1509], [730, 1501, 766, 1509], [771, 1499, 787, 1509], [792, 1501, 818, 1511], [823, 1499, 861, 1512], [865, 1499, 879, 1509], [883, 1502, 896, 1509], [901, 1499, 925, 1509], [930, 1499, 946, 1509], [952, 1495, 1012, 1513], [1019, 1495, 1067, 1509], [1074, 1495, 1153, 1513], [30, 1524, 60, 1540], [66, 1522, 127, 1540], [134, 1522, 199, 1540], [205, 1522, 235, 1536], [241, 1522, 301, 1536], [306, 1526, 348, 1536], [353, 1526, 387, 1536], [392, 1528, 399, 1536], [404, 1526, 425, 1536], [430, 1526, 442, 1536], [446, 1526, 480, 1539], [480, 1518, 527, 1544], [528, 1518, 546, 1544], [554, 1529, 565, 1536], [571, 1528, 581, 1536], [585, 1528, 603, 1536], [607, 1529, 621, 1536], [624, 1529, 651, 1539], [655, 1528, 698, 1539], [707, 1526, 744, 1536], [748, 1526, 773, 1539], [778, 1529, 789, 1536], [795, 1529, 805, 1536], [809, 1526, 852, 1539], [855, 1529, 878, 1539], [885, 1526, 920, 1536], [918, 1518, 945, 1544], [950, 1526, 1010, 1536], [1015, 1526, 1047, 1539], [31, 1563, 51, 1573], [55, 1563, 88, 1576], [93, 1563, 118, 1573], [121, 1566, 133, 1573], [138, 1566, 157, 1573], [162, 1563, 212, 1573], [212, 1563, 232, 1576], [236, 1563, 258, 1573], [262, 1566, 286, 1573], [290, 1565, 364, 1576], [368, 1563, 390, 1573], [393, 1565, 411, 1573], [412, 1563, 432, 1576], [436, 1563, 479, 1573], [31, 1601, 61, 1614], [67, 1601, 99, 1614], [110, 1600, 198, 1611], [202, 1600, 239, 1611], [242, 1600, 286, 1611], [291, 1600, 344, 1613], [351, 1601, 375, 1611], [380, 1601, 396, 1611], [404, 1601, 427, 1613], [433, 1601, 451, 1611], [456, 1601, 488, 1611], [493, 1601, 525, 1611], [532, 1601, 539, 1613], [546, 1601, 572, 1611], [577, 1603, 587, 1611], [592, 1601, 630, 1613], [636, 1601, 678, 1611], [683, 1601, 708, 1611], [713, 1601, 744, 1611], [749, 1591, 775, 1621], [779, 1591, 820, 1621], [825, 1601, 857, 1613], [863, 1601, 882, 1611], [887, 1601, 902, 1613], [909, 1601, 962, 1614], [969, 1601, 1020, 1614], [1025, 1607, 1028, 1608], [1035, 1601, 1075, 1611], [25, 1631, 87, 1644], [95, 1630, 142, 1648], [166, 1631, 204, 1644], [212, 1631, 242, 1644], [248, 1631, 288, 1644], [296, 1631, 301, 1646], [308, 1630, 550, 1648], [986, 1657, 1018, 1670], [1024, 1657, 1040, 1670], [1089, 1660, 1127, 1674], [1135, 1657, 1140, 1670], [1149, 1656, 1178, 1670], [1167, 1652, 1181, 1678]]\n"
          ]
        }
      ],
      "source": [
        "print(len(df[\"bbox\"][0]))\n",
        "print(df[\"bbox\"][0])"
      ]
    },
    {
      "cell_type": "code",
      "source": [
        "df['image'][0]"
      ],
      "metadata": {
        "colab": {
          "base_uri": "https://localhost:8080/",
          "height": 36
        },
        "id": "Mif8HRznkoUa",
        "outputId": "45d6ba3d-982f-4e32-ae19-d09a59e890a4"
      },
      "execution_count": 18,
      "outputs": [
        {
          "output_type": "execute_result",
          "data": {
            "text/plain": [
              "'/content/drive/MyDrive/Invoice_Extraction/docs_data/OD112860337304468000_0.png'"
            ],
            "application/vnd.google.colaboratory.intrinsic+json": {
              "type": "string"
            }
          },
          "metadata": {},
          "execution_count": 18
        }
      ]
    },
    {
      "cell_type": "code",
      "source": [
        "df.head()"
      ],
      "metadata": {
        "colab": {
          "base_uri": "https://localhost:8080/",
          "height": 206
        },
        "id": "OSLwQG6u8LIE",
        "outputId": "e572098c-f49f-4da7-ae92-72937b731e04"
      },
      "execution_count": 20,
      "outputs": [
        {
          "output_type": "execute_result",
          "data": {
            "text/plain": [
              "                                               image  \\\n",
              "0  /content/drive/MyDrive/Invoice_Extraction/docs...   \n",
              "1  /content/drive/MyDrive/Invoice_Extraction/docs...   \n",
              "2  /content/drive/MyDrive/Invoice_Extraction/docs...   \n",
              "3  /content/drive/MyDrive/Invoice_Extraction/docs...   \n",
              "4  /content/drive/MyDrive/Invoice_Extraction/docs...   \n",
              "\n",
              "                                               words  \\\n",
              "0  [Tax, Invoice, Sold, By:, Tech-Connect, Retail...   \n",
              "1  [Tax, Invoice, |, Order, Id:, 0D11031045634961...   \n",
              "2  [Tax, Invoice, |, Order, Id:, 0D11266216653785...   \n",
              "3  [Tax, Invoice, Sold, By:, Konde, Products, &, ...   \n",
              "4  [Tax, Invoice, Sold, By:, Shreyash, Retail, Pr...   \n",
              "\n",
              "                                                bbox  \n",
              "0  [[538, 26, 580, 44], [588, 25, 667, 44], [25, ...  \n",
              "1  [[78, 74, 113, 87], [121, 74, 189, 87], [197, ...  \n",
              "2  [[78, 74, 113, 87], [121, 74, 189, 87], [197, ...  \n",
              "3  [[538, 26, 580, 44], [588, 25, 667, 44], [25, ...  \n",
              "4  [[538, 26, 580, 44], [588, 25, 667, 44], [25, ...  "
            ],
            "text/html": [
              "\n",
              "  <div id=\"df-487514be-7459-4a0b-a8aa-6202e64e6ad6\" class=\"colab-df-container\">\n",
              "    <div>\n",
              "<style scoped>\n",
              "    .dataframe tbody tr th:only-of-type {\n",
              "        vertical-align: middle;\n",
              "    }\n",
              "\n",
              "    .dataframe tbody tr th {\n",
              "        vertical-align: top;\n",
              "    }\n",
              "\n",
              "    .dataframe thead th {\n",
              "        text-align: right;\n",
              "    }\n",
              "</style>\n",
              "<table border=\"1\" class=\"dataframe\">\n",
              "  <thead>\n",
              "    <tr style=\"text-align: right;\">\n",
              "      <th></th>\n",
              "      <th>image</th>\n",
              "      <th>words</th>\n",
              "      <th>bbox</th>\n",
              "    </tr>\n",
              "  </thead>\n",
              "  <tbody>\n",
              "    <tr>\n",
              "      <th>0</th>\n",
              "      <td>/content/drive/MyDrive/Invoice_Extraction/docs...</td>\n",
              "      <td>[Tax, Invoice, Sold, By:, Tech-Connect, Retail...</td>\n",
              "      <td>[[538, 26, 580, 44], [588, 25, 667, 44], [25, ...</td>\n",
              "    </tr>\n",
              "    <tr>\n",
              "      <th>1</th>\n",
              "      <td>/content/drive/MyDrive/Invoice_Extraction/docs...</td>\n",
              "      <td>[Tax, Invoice, |, Order, Id:, 0D11031045634961...</td>\n",
              "      <td>[[78, 74, 113, 87], [121, 74, 189, 87], [197, ...</td>\n",
              "    </tr>\n",
              "    <tr>\n",
              "      <th>2</th>\n",
              "      <td>/content/drive/MyDrive/Invoice_Extraction/docs...</td>\n",
              "      <td>[Tax, Invoice, |, Order, Id:, 0D11266216653785...</td>\n",
              "      <td>[[78, 74, 113, 87], [121, 74, 189, 87], [197, ...</td>\n",
              "    </tr>\n",
              "    <tr>\n",
              "      <th>3</th>\n",
              "      <td>/content/drive/MyDrive/Invoice_Extraction/docs...</td>\n",
              "      <td>[Tax, Invoice, Sold, By:, Konde, Products, &amp;, ...</td>\n",
              "      <td>[[538, 26, 580, 44], [588, 25, 667, 44], [25, ...</td>\n",
              "    </tr>\n",
              "    <tr>\n",
              "      <th>4</th>\n",
              "      <td>/content/drive/MyDrive/Invoice_Extraction/docs...</td>\n",
              "      <td>[Tax, Invoice, Sold, By:, Shreyash, Retail, Pr...</td>\n",
              "      <td>[[538, 26, 580, 44], [588, 25, 667, 44], [25, ...</td>\n",
              "    </tr>\n",
              "  </tbody>\n",
              "</table>\n",
              "</div>\n",
              "    <div class=\"colab-df-buttons\">\n",
              "\n",
              "  <div class=\"colab-df-container\">\n",
              "    <button class=\"colab-df-convert\" onclick=\"convertToInteractive('df-487514be-7459-4a0b-a8aa-6202e64e6ad6')\"\n",
              "            title=\"Convert this dataframe to an interactive table.\"\n",
              "            style=\"display:none;\">\n",
              "\n",
              "  <svg xmlns=\"http://www.w3.org/2000/svg\" height=\"24px\" viewBox=\"0 -960 960 960\">\n",
              "    <path d=\"M120-120v-720h720v720H120Zm60-500h600v-160H180v160Zm220 220h160v-160H400v160Zm0 220h160v-160H400v160ZM180-400h160v-160H180v160Zm440 0h160v-160H620v160ZM180-180h160v-160H180v160Zm440 0h160v-160H620v160Z\"/>\n",
              "  </svg>\n",
              "    </button>\n",
              "\n",
              "  <style>\n",
              "    .colab-df-container {\n",
              "      display:flex;\n",
              "      gap: 12px;\n",
              "    }\n",
              "\n",
              "    .colab-df-convert {\n",
              "      background-color: #E8F0FE;\n",
              "      border: none;\n",
              "      border-radius: 50%;\n",
              "      cursor: pointer;\n",
              "      display: none;\n",
              "      fill: #1967D2;\n",
              "      height: 32px;\n",
              "      padding: 0 0 0 0;\n",
              "      width: 32px;\n",
              "    }\n",
              "\n",
              "    .colab-df-convert:hover {\n",
              "      background-color: #E2EBFA;\n",
              "      box-shadow: 0px 1px 2px rgba(60, 64, 67, 0.3), 0px 1px 3px 1px rgba(60, 64, 67, 0.15);\n",
              "      fill: #174EA6;\n",
              "    }\n",
              "\n",
              "    .colab-df-buttons div {\n",
              "      margin-bottom: 4px;\n",
              "    }\n",
              "\n",
              "    [theme=dark] .colab-df-convert {\n",
              "      background-color: #3B4455;\n",
              "      fill: #D2E3FC;\n",
              "    }\n",
              "\n",
              "    [theme=dark] .colab-df-convert:hover {\n",
              "      background-color: #434B5C;\n",
              "      box-shadow: 0px 1px 3px 1px rgba(0, 0, 0, 0.15);\n",
              "      filter: drop-shadow(0px 1px 2px rgba(0, 0, 0, 0.3));\n",
              "      fill: #FFFFFF;\n",
              "    }\n",
              "  </style>\n",
              "\n",
              "    <script>\n",
              "      const buttonEl =\n",
              "        document.querySelector('#df-487514be-7459-4a0b-a8aa-6202e64e6ad6 button.colab-df-convert');\n",
              "      buttonEl.style.display =\n",
              "        google.colab.kernel.accessAllowed ? 'block' : 'none';\n",
              "\n",
              "      async function convertToInteractive(key) {\n",
              "        const element = document.querySelector('#df-487514be-7459-4a0b-a8aa-6202e64e6ad6');\n",
              "        const dataTable =\n",
              "          await google.colab.kernel.invokeFunction('convertToInteractive',\n",
              "                                                    [key], {});\n",
              "        if (!dataTable) return;\n",
              "\n",
              "        const docLinkHtml = 'Like what you see? Visit the ' +\n",
              "          '<a target=\"_blank\" href=https://colab.research.google.com/notebooks/data_table.ipynb>data table notebook</a>'\n",
              "          + ' to learn more about interactive tables.';\n",
              "        element.innerHTML = '';\n",
              "        dataTable['output_type'] = 'display_data';\n",
              "        await google.colab.output.renderOutput(dataTable, element);\n",
              "        const docLink = document.createElement('div');\n",
              "        docLink.innerHTML = docLinkHtml;\n",
              "        element.appendChild(docLink);\n",
              "      }\n",
              "    </script>\n",
              "  </div>\n",
              "\n",
              "\n",
              "<div id=\"df-a4f14ab0-c41b-424e-b159-c4d2faa66888\">\n",
              "  <button class=\"colab-df-quickchart\" onclick=\"quickchart('df-a4f14ab0-c41b-424e-b159-c4d2faa66888')\"\n",
              "            title=\"Suggest charts.\"\n",
              "            style=\"display:none;\">\n",
              "\n",
              "<svg xmlns=\"http://www.w3.org/2000/svg\" height=\"24px\"viewBox=\"0 0 24 24\"\n",
              "     width=\"24px\">\n",
              "    <g>\n",
              "        <path d=\"M19 3H5c-1.1 0-2 .9-2 2v14c0 1.1.9 2 2 2h14c1.1 0 2-.9 2-2V5c0-1.1-.9-2-2-2zM9 17H7v-7h2v7zm4 0h-2V7h2v10zm4 0h-2v-4h2v4z\"/>\n",
              "    </g>\n",
              "</svg>\n",
              "  </button>\n",
              "\n",
              "<style>\n",
              "  .colab-df-quickchart {\n",
              "    background-color: #E8F0FE;\n",
              "    border: none;\n",
              "    border-radius: 50%;\n",
              "    cursor: pointer;\n",
              "    display: none;\n",
              "    fill: #1967D2;\n",
              "    height: 32px;\n",
              "    padding: 0 0 0 0;\n",
              "    width: 32px;\n",
              "  }\n",
              "\n",
              "  .colab-df-quickchart:hover {\n",
              "    background-color: #E2EBFA;\n",
              "    box-shadow: 0px 1px 2px rgba(60, 64, 67, 0.3), 0px 1px 3px 1px rgba(60, 64, 67, 0.15);\n",
              "    fill: #174EA6;\n",
              "  }\n",
              "\n",
              "  [theme=dark] .colab-df-quickchart {\n",
              "    background-color: #3B4455;\n",
              "    fill: #D2E3FC;\n",
              "  }\n",
              "\n",
              "  [theme=dark] .colab-df-quickchart:hover {\n",
              "    background-color: #434B5C;\n",
              "    box-shadow: 0px 1px 3px 1px rgba(0, 0, 0, 0.15);\n",
              "    filter: drop-shadow(0px 1px 2px rgba(0, 0, 0, 0.3));\n",
              "    fill: #FFFFFF;\n",
              "  }\n",
              "</style>\n",
              "\n",
              "  <script>\n",
              "    async function quickchart(key) {\n",
              "      const charts = await google.colab.kernel.invokeFunction(\n",
              "          'suggestCharts', [key], {});\n",
              "    }\n",
              "    (() => {\n",
              "      let quickchartButtonEl =\n",
              "        document.querySelector('#df-a4f14ab0-c41b-424e-b159-c4d2faa66888 button');\n",
              "      quickchartButtonEl.style.display =\n",
              "        google.colab.kernel.accessAllowed ? 'block' : 'none';\n",
              "    })();\n",
              "  </script>\n",
              "</div>\n",
              "    </div>\n",
              "  </div>\n"
            ]
          },
          "metadata": {},
          "execution_count": 20
        }
      ]
    },
    {
      "cell_type": "code",
      "source": [
        "import numpy as np\n",
        "\n",
        "labels = []\n",
        "for row in range(df.shape[0]):\n",
        "  label_size = len(df['words'][row])\n",
        "  arr = list(np.random.randint(0,5,label_size))\n",
        "  labels.append(arr)\n"
      ],
      "metadata": {
        "id": "R7yUk7Iw2wah"
      },
      "execution_count": 28,
      "outputs": []
    },
    {
      "cell_type": "code",
      "source": [
        "# in_process = []\n",
        "# labels = []\n",
        "# ann_labels = []\n",
        "# for ind, row in enumerate(df['words']):\n",
        "#   labels = ['O'] * len(row)\n",
        "#   if '#' in row:\n",
        "#     i = row.index('#')\n",
        "#     labels[i+1] = 'invoice_number'\n",
        "#     ann_labels.append(labels)\n",
        "#   else:\n",
        "#     ann_labels.append(labels)"
      ],
      "metadata": {
        "id": "R8hhNbHBlmFK"
      },
      "execution_count": null,
      "outputs": []
    },
    {
      "cell_type": "code",
      "source": [
        "df['labels'] = labels\n",
        "df"
      ],
      "metadata": {
        "colab": {
          "base_uri": "https://localhost:8080/",
          "height": 597
        },
        "id": "fEaI_S1HlmCF",
        "outputId": "a3eb7ec7-d8b9-45a5-c875-d5a36d82d980"
      },
      "execution_count": 30,
      "outputs": [
        {
          "output_type": "execute_result",
          "data": {
            "text/plain": [
              "                                                image  \\\n",
              "0   /content/drive/MyDrive/Invoice_Extraction/docs...   \n",
              "1   /content/drive/MyDrive/Invoice_Extraction/docs...   \n",
              "2   /content/drive/MyDrive/Invoice_Extraction/docs...   \n",
              "3   /content/drive/MyDrive/Invoice_Extraction/docs...   \n",
              "4   /content/drive/MyDrive/Invoice_Extraction/docs...   \n",
              "..                                                ...   \n",
              "90  /content/drive/MyDrive/Invoice_Extraction/docs...   \n",
              "91  /content/drive/MyDrive/Invoice_Extraction/docs...   \n",
              "92  /content/drive/MyDrive/Invoice_Extraction/docs...   \n",
              "93  /content/drive/MyDrive/Invoice_Extraction/docs...   \n",
              "94  /content/drive/MyDrive/Invoice_Extraction/docs...   \n",
              "\n",
              "                                                words  \\\n",
              "0   [Tax, Invoice, Sold, By:, Tech-Connect, Retail...   \n",
              "1   [Tax, Invoice, |, Order, Id:, 0D11031045634961...   \n",
              "2   [Tax, Invoice, |, Order, Id:, 0D11266216653785...   \n",
              "3   [Tax, Invoice, Sold, By:, Konde, Products, &, ...   \n",
              "4   [Tax, Invoice, Sold, By:, Shreyash, Retail, Pr...   \n",
              "..                                                ...   \n",
              "90  [amazoni, Nn, Tax, Invoice/Bill, of, Supply/Ca...   \n",
              "91  [amazoni, Nn, Tax, Invoice/Bill, of, Supply/Ca...   \n",
              "92  [Page, 1, of, 1,, 1-1/1, Invoice, for, DVxcx9P...   \n",
              "93  [Page, |, of, 1,, 1-1/1, Invoice, for, DwCmnBP...   \n",
              "94  [Page, 1, of, 1,, 1-1/1, Invoice, for, Db2JJcY...   \n",
              "\n",
              "                                                 bbox  \\\n",
              "0   [[538, 26, 580, 44], [588, 25, 667, 44], [25, ...   \n",
              "1   [[78, 74, 113, 87], [121, 74, 189, 87], [197, ...   \n",
              "2   [[78, 74, 113, 87], [121, 74, 189, 87], [197, ...   \n",
              "3   [[538, 26, 580, 44], [588, 25, 667, 44], [25, ...   \n",
              "4   [[538, 26, 580, 44], [588, 25, 667, 44], [25, ...   \n",
              "..                                                ...   \n",
              "90  [[115, 8, 405, 73], [409, 22, 435, 73], [647, ...   \n",
              "91  [[115, 8, 405, 73], [417, 22, 431, 73], [647, ...   \n",
              "92  [[122, 155, 157, 169], [156, 151, 168, 175], [...   \n",
              "93  [[122, 155, 157, 169], [166, 155, 171, 167], [...   \n",
              "94  [[122, 155, 157, 169], [166, 155, 171, 167], [...   \n",
              "\n",
              "                                               labels  \n",
              "0   [3, 2, 2, 0, 4, 3, 0, 2, 4, 4, 4, 3, 0, 2, 0, ...  \n",
              "1   [2, 0, 1, 0, 3, 3, 0, 3, 3, 0, 2, 1, 1, 2, 2, ...  \n",
              "2   [0, 4, 1, 3, 1, 0, 0, 2, 0, 2, 4, 1, 1, 1, 3, ...  \n",
              "3   [4, 2, 3, 0, 1, 1, 3, 3, 4, 2, 2, 3, 0, 2, 4, ...  \n",
              "4   [3, 1, 0, 2, 1, 3, 2, 2, 4, 0, 3, 4, 2, 1, 1, ...  \n",
              "..                                                ...  \n",
              "90  [3, 3, 2, 4, 2, 1, 4, 4, 0, 1, 1, 1, 1, 3, 2, ...  \n",
              "91  [0, 2, 3, 4, 3, 3, 3, 3, 3, 1, 1, 3, 4, 3, 0, ...  \n",
              "92  [2, 4, 3, 3, 4, 2, 3, 4, 3, 0, 2, 4, 2, 3, 0, ...  \n",
              "93  [4, 1, 1, 1, 2, 0, 3, 1, 2, 3, 4, 4, 0, 0, 0, ...  \n",
              "94  [1, 4, 0, 1, 0, 2, 4, 4, 0, 4, 1, 1, 0, 0, 2, ...  \n",
              "\n",
              "[95 rows x 4 columns]"
            ],
            "text/html": [
              "\n",
              "  <div id=\"df-357bf2ee-0e4a-4a18-ba7b-2fbe7df29451\" class=\"colab-df-container\">\n",
              "    <div>\n",
              "<style scoped>\n",
              "    .dataframe tbody tr th:only-of-type {\n",
              "        vertical-align: middle;\n",
              "    }\n",
              "\n",
              "    .dataframe tbody tr th {\n",
              "        vertical-align: top;\n",
              "    }\n",
              "\n",
              "    .dataframe thead th {\n",
              "        text-align: right;\n",
              "    }\n",
              "</style>\n",
              "<table border=\"1\" class=\"dataframe\">\n",
              "  <thead>\n",
              "    <tr style=\"text-align: right;\">\n",
              "      <th></th>\n",
              "      <th>image</th>\n",
              "      <th>words</th>\n",
              "      <th>bbox</th>\n",
              "      <th>labels</th>\n",
              "    </tr>\n",
              "  </thead>\n",
              "  <tbody>\n",
              "    <tr>\n",
              "      <th>0</th>\n",
              "      <td>/content/drive/MyDrive/Invoice_Extraction/docs...</td>\n",
              "      <td>[Tax, Invoice, Sold, By:, Tech-Connect, Retail...</td>\n",
              "      <td>[[538, 26, 580, 44], [588, 25, 667, 44], [25, ...</td>\n",
              "      <td>[3, 2, 2, 0, 4, 3, 0, 2, 4, 4, 4, 3, 0, 2, 0, ...</td>\n",
              "    </tr>\n",
              "    <tr>\n",
              "      <th>1</th>\n",
              "      <td>/content/drive/MyDrive/Invoice_Extraction/docs...</td>\n",
              "      <td>[Tax, Invoice, |, Order, Id:, 0D11031045634961...</td>\n",
              "      <td>[[78, 74, 113, 87], [121, 74, 189, 87], [197, ...</td>\n",
              "      <td>[2, 0, 1, 0, 3, 3, 0, 3, 3, 0, 2, 1, 1, 2, 2, ...</td>\n",
              "    </tr>\n",
              "    <tr>\n",
              "      <th>2</th>\n",
              "      <td>/content/drive/MyDrive/Invoice_Extraction/docs...</td>\n",
              "      <td>[Tax, Invoice, |, Order, Id:, 0D11266216653785...</td>\n",
              "      <td>[[78, 74, 113, 87], [121, 74, 189, 87], [197, ...</td>\n",
              "      <td>[0, 4, 1, 3, 1, 0, 0, 2, 0, 2, 4, 1, 1, 1, 3, ...</td>\n",
              "    </tr>\n",
              "    <tr>\n",
              "      <th>3</th>\n",
              "      <td>/content/drive/MyDrive/Invoice_Extraction/docs...</td>\n",
              "      <td>[Tax, Invoice, Sold, By:, Konde, Products, &amp;, ...</td>\n",
              "      <td>[[538, 26, 580, 44], [588, 25, 667, 44], [25, ...</td>\n",
              "      <td>[4, 2, 3, 0, 1, 1, 3, 3, 4, 2, 2, 3, 0, 2, 4, ...</td>\n",
              "    </tr>\n",
              "    <tr>\n",
              "      <th>4</th>\n",
              "      <td>/content/drive/MyDrive/Invoice_Extraction/docs...</td>\n",
              "      <td>[Tax, Invoice, Sold, By:, Shreyash, Retail, Pr...</td>\n",
              "      <td>[[538, 26, 580, 44], [588, 25, 667, 44], [25, ...</td>\n",
              "      <td>[3, 1, 0, 2, 1, 3, 2, 2, 4, 0, 3, 4, 2, 1, 1, ...</td>\n",
              "    </tr>\n",
              "    <tr>\n",
              "      <th>...</th>\n",
              "      <td>...</td>\n",
              "      <td>...</td>\n",
              "      <td>...</td>\n",
              "      <td>...</td>\n",
              "    </tr>\n",
              "    <tr>\n",
              "      <th>90</th>\n",
              "      <td>/content/drive/MyDrive/Invoice_Extraction/docs...</td>\n",
              "      <td>[amazoni, Nn, Tax, Invoice/Bill, of, Supply/Ca...</td>\n",
              "      <td>[[115, 8, 405, 73], [409, 22, 435, 73], [647, ...</td>\n",
              "      <td>[3, 3, 2, 4, 2, 1, 4, 4, 0, 1, 1, 1, 1, 3, 2, ...</td>\n",
              "    </tr>\n",
              "    <tr>\n",
              "      <th>91</th>\n",
              "      <td>/content/drive/MyDrive/Invoice_Extraction/docs...</td>\n",
              "      <td>[amazoni, Nn, Tax, Invoice/Bill, of, Supply/Ca...</td>\n",
              "      <td>[[115, 8, 405, 73], [417, 22, 431, 73], [647, ...</td>\n",
              "      <td>[0, 2, 3, 4, 3, 3, 3, 3, 3, 1, 1, 3, 4, 3, 0, ...</td>\n",
              "    </tr>\n",
              "    <tr>\n",
              "      <th>92</th>\n",
              "      <td>/content/drive/MyDrive/Invoice_Extraction/docs...</td>\n",
              "      <td>[Page, 1, of, 1,, 1-1/1, Invoice, for, DVxcx9P...</td>\n",
              "      <td>[[122, 155, 157, 169], [156, 151, 168, 175], [...</td>\n",
              "      <td>[2, 4, 3, 3, 4, 2, 3, 4, 3, 0, 2, 4, 2, 3, 0, ...</td>\n",
              "    </tr>\n",
              "    <tr>\n",
              "      <th>93</th>\n",
              "      <td>/content/drive/MyDrive/Invoice_Extraction/docs...</td>\n",
              "      <td>[Page, |, of, 1,, 1-1/1, Invoice, for, DwCmnBP...</td>\n",
              "      <td>[[122, 155, 157, 169], [166, 155, 171, 167], [...</td>\n",
              "      <td>[4, 1, 1, 1, 2, 0, 3, 1, 2, 3, 4, 4, 0, 0, 0, ...</td>\n",
              "    </tr>\n",
              "    <tr>\n",
              "      <th>94</th>\n",
              "      <td>/content/drive/MyDrive/Invoice_Extraction/docs...</td>\n",
              "      <td>[Page, 1, of, 1,, 1-1/1, Invoice, for, Db2JJcY...</td>\n",
              "      <td>[[122, 155, 157, 169], [166, 155, 171, 167], [...</td>\n",
              "      <td>[1, 4, 0, 1, 0, 2, 4, 4, 0, 4, 1, 1, 0, 0, 2, ...</td>\n",
              "    </tr>\n",
              "  </tbody>\n",
              "</table>\n",
              "<p>95 rows × 4 columns</p>\n",
              "</div>\n",
              "    <div class=\"colab-df-buttons\">\n",
              "\n",
              "  <div class=\"colab-df-container\">\n",
              "    <button class=\"colab-df-convert\" onclick=\"convertToInteractive('df-357bf2ee-0e4a-4a18-ba7b-2fbe7df29451')\"\n",
              "            title=\"Convert this dataframe to an interactive table.\"\n",
              "            style=\"display:none;\">\n",
              "\n",
              "  <svg xmlns=\"http://www.w3.org/2000/svg\" height=\"24px\" viewBox=\"0 -960 960 960\">\n",
              "    <path d=\"M120-120v-720h720v720H120Zm60-500h600v-160H180v160Zm220 220h160v-160H400v160Zm0 220h160v-160H400v160ZM180-400h160v-160H180v160Zm440 0h160v-160H620v160ZM180-180h160v-160H180v160Zm440 0h160v-160H620v160Z\"/>\n",
              "  </svg>\n",
              "    </button>\n",
              "\n",
              "  <style>\n",
              "    .colab-df-container {\n",
              "      display:flex;\n",
              "      gap: 12px;\n",
              "    }\n",
              "\n",
              "    .colab-df-convert {\n",
              "      background-color: #E8F0FE;\n",
              "      border: none;\n",
              "      border-radius: 50%;\n",
              "      cursor: pointer;\n",
              "      display: none;\n",
              "      fill: #1967D2;\n",
              "      height: 32px;\n",
              "      padding: 0 0 0 0;\n",
              "      width: 32px;\n",
              "    }\n",
              "\n",
              "    .colab-df-convert:hover {\n",
              "      background-color: #E2EBFA;\n",
              "      box-shadow: 0px 1px 2px rgba(60, 64, 67, 0.3), 0px 1px 3px 1px rgba(60, 64, 67, 0.15);\n",
              "      fill: #174EA6;\n",
              "    }\n",
              "\n",
              "    .colab-df-buttons div {\n",
              "      margin-bottom: 4px;\n",
              "    }\n",
              "\n",
              "    [theme=dark] .colab-df-convert {\n",
              "      background-color: #3B4455;\n",
              "      fill: #D2E3FC;\n",
              "    }\n",
              "\n",
              "    [theme=dark] .colab-df-convert:hover {\n",
              "      background-color: #434B5C;\n",
              "      box-shadow: 0px 1px 3px 1px rgba(0, 0, 0, 0.15);\n",
              "      filter: drop-shadow(0px 1px 2px rgba(0, 0, 0, 0.3));\n",
              "      fill: #FFFFFF;\n",
              "    }\n",
              "  </style>\n",
              "\n",
              "    <script>\n",
              "      const buttonEl =\n",
              "        document.querySelector('#df-357bf2ee-0e4a-4a18-ba7b-2fbe7df29451 button.colab-df-convert');\n",
              "      buttonEl.style.display =\n",
              "        google.colab.kernel.accessAllowed ? 'block' : 'none';\n",
              "\n",
              "      async function convertToInteractive(key) {\n",
              "        const element = document.querySelector('#df-357bf2ee-0e4a-4a18-ba7b-2fbe7df29451');\n",
              "        const dataTable =\n",
              "          await google.colab.kernel.invokeFunction('convertToInteractive',\n",
              "                                                    [key], {});\n",
              "        if (!dataTable) return;\n",
              "\n",
              "        const docLinkHtml = 'Like what you see? Visit the ' +\n",
              "          '<a target=\"_blank\" href=https://colab.research.google.com/notebooks/data_table.ipynb>data table notebook</a>'\n",
              "          + ' to learn more about interactive tables.';\n",
              "        element.innerHTML = '';\n",
              "        dataTable['output_type'] = 'display_data';\n",
              "        await google.colab.output.renderOutput(dataTable, element);\n",
              "        const docLink = document.createElement('div');\n",
              "        docLink.innerHTML = docLinkHtml;\n",
              "        element.appendChild(docLink);\n",
              "      }\n",
              "    </script>\n",
              "  </div>\n",
              "\n",
              "\n",
              "<div id=\"df-149d8f52-af87-4b96-b7c2-322e3d3c5125\">\n",
              "  <button class=\"colab-df-quickchart\" onclick=\"quickchart('df-149d8f52-af87-4b96-b7c2-322e3d3c5125')\"\n",
              "            title=\"Suggest charts.\"\n",
              "            style=\"display:none;\">\n",
              "\n",
              "<svg xmlns=\"http://www.w3.org/2000/svg\" height=\"24px\"viewBox=\"0 0 24 24\"\n",
              "     width=\"24px\">\n",
              "    <g>\n",
              "        <path d=\"M19 3H5c-1.1 0-2 .9-2 2v14c0 1.1.9 2 2 2h14c1.1 0 2-.9 2-2V5c0-1.1-.9-2-2-2zM9 17H7v-7h2v7zm4 0h-2V7h2v10zm4 0h-2v-4h2v4z\"/>\n",
              "    </g>\n",
              "</svg>\n",
              "  </button>\n",
              "\n",
              "<style>\n",
              "  .colab-df-quickchart {\n",
              "    background-color: #E8F0FE;\n",
              "    border: none;\n",
              "    border-radius: 50%;\n",
              "    cursor: pointer;\n",
              "    display: none;\n",
              "    fill: #1967D2;\n",
              "    height: 32px;\n",
              "    padding: 0 0 0 0;\n",
              "    width: 32px;\n",
              "  }\n",
              "\n",
              "  .colab-df-quickchart:hover {\n",
              "    background-color: #E2EBFA;\n",
              "    box-shadow: 0px 1px 2px rgba(60, 64, 67, 0.3), 0px 1px 3px 1px rgba(60, 64, 67, 0.15);\n",
              "    fill: #174EA6;\n",
              "  }\n",
              "\n",
              "  [theme=dark] .colab-df-quickchart {\n",
              "    background-color: #3B4455;\n",
              "    fill: #D2E3FC;\n",
              "  }\n",
              "\n",
              "  [theme=dark] .colab-df-quickchart:hover {\n",
              "    background-color: #434B5C;\n",
              "    box-shadow: 0px 1px 3px 1px rgba(0, 0, 0, 0.15);\n",
              "    filter: drop-shadow(0px 1px 2px rgba(0, 0, 0, 0.3));\n",
              "    fill: #FFFFFF;\n",
              "  }\n",
              "</style>\n",
              "\n",
              "  <script>\n",
              "    async function quickchart(key) {\n",
              "      const charts = await google.colab.kernel.invokeFunction(\n",
              "          'suggestCharts', [key], {});\n",
              "    }\n",
              "    (() => {\n",
              "      let quickchartButtonEl =\n",
              "        document.querySelector('#df-149d8f52-af87-4b96-b7c2-322e3d3c5125 button');\n",
              "      quickchartButtonEl.style.display =\n",
              "        google.colab.kernel.accessAllowed ? 'block' : 'none';\n",
              "    })();\n",
              "  </script>\n",
              "</div>\n",
              "    </div>\n",
              "  </div>\n"
            ]
          },
          "metadata": {},
          "execution_count": 30
        }
      ]
    },
    {
      "cell_type": "code",
      "source": [
        "from torch.utils.data import Dataset\n",
        "from PIL import Image\n",
        "\n",
        "class CustomDataset(Dataset):\n",
        "     def __init__(self, root, df, processor,max_length,target_size):\n",
        "          self.root = root\n",
        "          self.df = df\n",
        "          self.target_size = target_size\n",
        "          self.processor = processor\n",
        "          self.max_seq_length = max_length\n",
        "          self.pad_token_box = [0, 0, 0, 0]\n",
        "\n",
        "\n",
        "     def __getitem__(self, idx):\n",
        "          # get document image + corresponding words, boxes and labels at the word level\n",
        "          item = self.df.loc[idx]\n",
        "          image = Image.open(self.root +'/' + item['image'].split('/')[-1]).convert('RGB')\n",
        "          words = item.words\n",
        "          boxes = item.bbox\n",
        "          word_labels = item.labels\n",
        "\n",
        "          # resize to target size (to be provided to the pre-trained backbone)\n",
        "          resized_image = image.resize((self.target_size, self.target_size))\n",
        "\n",
        "          # use processor to prepare everything for the model\n",
        "          encoding = self.processor(resized_image, return_tensors=\"pt\")\n",
        "          # encoding = self.processor(image, words=words, boxes=boxes, word_labels=word_labels, return_tensors=\"pt\")\n",
        "\n",
        "          # remove batch dimension which the processor adds by default\n",
        "          encoding = {k:v.squeeze() for k,v in encoding.items()}\n",
        "\n",
        "          # assert len(encoding['input_ids']) == self.max_seq_length\n",
        "          # assert len(encoding['attention_mask']) == self.max_seq_length\n",
        "          # assert len(encoding['token_type_ids']) == self.max_seq_length\n",
        "          # assert len(encoding['bbox']) == self.max_seq_length\n",
        "          # assert len(encoding['labels']) == self.max_seq_length\n",
        "\n",
        "          return encoding"
      ],
      "metadata": {
        "id": "bjvRLfpNll_0"
      },
      "execution_count": 120,
      "outputs": []
    },
    {
      "cell_type": "code",
      "source": [
        "from transformers import LayoutLMv3Processor\n",
        "\n",
        "processor = LayoutLMv3Processor.from_pretrained(\"microsoft/layoutlmv3-base\")\n",
        "\n",
        "dataset = CustomDataset(root=dataset_path, df=df, processor=processor,max_length=512, target_size=224)"
      ],
      "metadata": {
        "id": "UtXjZGfwpJ2W"
      },
      "execution_count": 121,
      "outputs": []
    },
    {
      "cell_type": "code",
      "source": [
        "encoding = dataset[0]\n",
        "encoding.keys()"
      ],
      "metadata": {
        "colab": {
          "base_uri": "https://localhost:8080/"
        },
        "id": "RYG8N4dg_WAX",
        "outputId": "ed124477-a62b-47e1-a7dd-a0adbe73edde"
      },
      "execution_count": 124,
      "outputs": [
        {
          "output_type": "execute_result",
          "data": {
            "text/plain": [
              "dict_keys(['input_ids', 'attention_mask', 'bbox', 'pixel_values'])"
            ]
          },
          "metadata": {},
          "execution_count": 124
        }
      ]
    },
    {
      "cell_type": "code",
      "source": [
        "processor.decode(encoding['input_ids'])"
      ],
      "metadata": {
        "colab": {
          "base_uri": "https://localhost:8080/",
          "height": 36
        },
        "id": "sMtv1Q2KDQ_V",
        "outputId": "4451d49e-a6f7-46d4-b384-3ab4d4f10a1e"
      },
      "execution_count": 131,
      "outputs": [
        {
          "output_type": "execute_result",
          "data": {
            "text/plain": [
              "'<s></s>'"
            ],
            "application/vnd.google.colaboratory.intrinsic+json": {
              "type": "string"
            }
          },
          "metadata": {},
          "execution_count": 131
        }
      ]
    },
    {
      "cell_type": "code",
      "source": [
        "encoding['resized_image'].shape"
      ],
      "metadata": {
        "colab": {
          "base_uri": "https://localhost:8080/",
          "height": 175
        },
        "id": "08JwNlQfDQ74",
        "outputId": "f0118df4-f7d2-4c60-a875-afc288b6c47f"
      },
      "execution_count": 132,
      "outputs": [
        {
          "output_type": "error",
          "ename": "KeyError",
          "evalue": "ignored",
          "traceback": [
            "\u001b[0;31m---------------------------------------------------------------------------\u001b[0m",
            "\u001b[0;31mKeyError\u001b[0m                                  Traceback (most recent call last)",
            "\u001b[0;32m<ipython-input-132-c2a0df877c34>\u001b[0m in \u001b[0;36m<cell line: 1>\u001b[0;34m()\u001b[0m\n\u001b[0;32m----> 1\u001b[0;31m \u001b[0mencoding\u001b[0m\u001b[0;34m[\u001b[0m\u001b[0;34m'resized_image'\u001b[0m\u001b[0;34m]\u001b[0m\u001b[0;34m.\u001b[0m\u001b[0mshape\u001b[0m\u001b[0;34m\u001b[0m\u001b[0;34m\u001b[0m\u001b[0m\n\u001b[0m",
            "\u001b[0;31mKeyError\u001b[0m: 'resized_image'"
          ]
        }
      ]
    },
    {
      "cell_type": "code",
      "source": [
        "train_dataset = CustomDataset(dataset=dataset[0], processor=processor)\n",
        "val_dataset = CustomDataset(dataset=dataset[\"val\"], processor=processor)"
      ],
      "metadata": {
        "colab": {
          "base_uri": "https://localhost:8080/",
          "height": 373
        },
        "id": "3PZkMTC6pJzQ",
        "outputId": "c104616c-3b4c-4cb0-b232-f84b6a501fe3"
      },
      "execution_count": 98,
      "outputs": [
        {
          "output_type": "error",
          "ename": "ValueError",
          "evalue": "ignored",
          "traceback": [
            "\u001b[0;31m---------------------------------------------------------------------------\u001b[0m",
            "\u001b[0;31mValueError\u001b[0m                                Traceback (most recent call last)",
            "\u001b[0;32m<ipython-input-98-0211ec3d534d>\u001b[0m in \u001b[0;36m<cell line: 1>\u001b[0;34m()\u001b[0m\n\u001b[0;32m----> 1\u001b[0;31m \u001b[0mtrain_dataset\u001b[0m \u001b[0;34m=\u001b[0m \u001b[0mCustomDataset\u001b[0m\u001b[0;34m(\u001b[0m\u001b[0mdataset\u001b[0m\u001b[0;34m=\u001b[0m\u001b[0mdataset\u001b[0m\u001b[0;34m[\u001b[0m\u001b[0;36m0\u001b[0m\u001b[0;34m]\u001b[0m\u001b[0;34m,\u001b[0m \u001b[0mprocessor\u001b[0m\u001b[0;34m=\u001b[0m\u001b[0mprocessor\u001b[0m\u001b[0;34m)\u001b[0m\u001b[0;34m\u001b[0m\u001b[0;34m\u001b[0m\u001b[0m\n\u001b[0m\u001b[1;32m      2\u001b[0m \u001b[0mval_dataset\u001b[0m \u001b[0;34m=\u001b[0m \u001b[0mCustomDataset\u001b[0m\u001b[0;34m(\u001b[0m\u001b[0mdataset\u001b[0m\u001b[0;34m=\u001b[0m\u001b[0mdataset\u001b[0m\u001b[0;34m[\u001b[0m\u001b[0;34m\"val\"\u001b[0m\u001b[0;34m]\u001b[0m\u001b[0;34m,\u001b[0m \u001b[0mprocessor\u001b[0m\u001b[0;34m=\u001b[0m\u001b[0mprocessor\u001b[0m\u001b[0;34m)\u001b[0m\u001b[0;34m\u001b[0m\u001b[0;34m\u001b[0m\u001b[0m\n",
            "\u001b[0;32m<ipython-input-93-3708a04f29e6>\u001b[0m in \u001b[0;36m__getitem__\u001b[0;34m(self, idx)\u001b[0m\n\u001b[1;32m     17\u001b[0m \u001b[0;34m\u001b[0m\u001b[0m\n\u001b[1;32m     18\u001b[0m           \u001b[0;31m# use processor to prepare everything for the model\u001b[0m\u001b[0;34m\u001b[0m\u001b[0;34m\u001b[0m\u001b[0m\n\u001b[0;32m---> 19\u001b[0;31m           \u001b[0mencoding\u001b[0m \u001b[0;34m=\u001b[0m \u001b[0mself\u001b[0m\u001b[0;34m.\u001b[0m\u001b[0mprocessor\u001b[0m\u001b[0;34m(\u001b[0m\u001b[0mimage\u001b[0m\u001b[0;34m,\u001b[0m \u001b[0mwords\u001b[0m\u001b[0;34m,\u001b[0m \u001b[0mword_labels\u001b[0m\u001b[0;34m,\u001b[0m \u001b[0mreturn_tensors\u001b[0m\u001b[0;34m=\u001b[0m\u001b[0;34m\"pt\"\u001b[0m\u001b[0;34m)\u001b[0m\u001b[0;34m\u001b[0m\u001b[0;34m\u001b[0m\u001b[0m\n\u001b[0m\u001b[1;32m     20\u001b[0m           \u001b[0;31m# encoding = self.processor(image, words=words, boxes=boxes, word_labels=word_labels, return_tensors=\"pt\")\u001b[0m\u001b[0;34m\u001b[0m\u001b[0;34m\u001b[0m\u001b[0m\n\u001b[1;32m     21\u001b[0m \u001b[0;34m\u001b[0m\u001b[0m\n",
            "\u001b[0;32m/usr/local/lib/python3.10/dist-packages/transformers/models/layoutlmv3/processing_layoutlmv3.py\u001b[0m in \u001b[0;36m__call__\u001b[0;34m(self, images, text, text_pair, boxes, word_labels, add_special_tokens, padding, truncation, max_length, stride, pad_to_multiple_of, return_token_type_ids, return_attention_mask, return_overflowing_tokens, return_special_tokens_mask, return_offsets_mapping, return_length, verbose, return_tensors, **kwargs)\u001b[0m\n\u001b[1;32m    120\u001b[0m             \u001b[0mtext_pair\u001b[0m \u001b[0;34m=\u001b[0m \u001b[0mfeatures\u001b[0m\u001b[0;34m[\u001b[0m\u001b[0;34m\"words\"\u001b[0m\u001b[0;34m]\u001b[0m\u001b[0;34m\u001b[0m\u001b[0;34m\u001b[0m\u001b[0m\n\u001b[1;32m    121\u001b[0m \u001b[0;34m\u001b[0m\u001b[0m\n\u001b[0;32m--> 122\u001b[0;31m         encoded_inputs = self.tokenizer(\n\u001b[0m\u001b[1;32m    123\u001b[0m             \u001b[0mtext\u001b[0m\u001b[0;34m=\u001b[0m\u001b[0mtext\u001b[0m \u001b[0;32mif\u001b[0m \u001b[0mtext\u001b[0m \u001b[0;32mis\u001b[0m \u001b[0;32mnot\u001b[0m \u001b[0;32mNone\u001b[0m \u001b[0;32melse\u001b[0m \u001b[0mfeatures\u001b[0m\u001b[0;34m[\u001b[0m\u001b[0;34m\"words\"\u001b[0m\u001b[0;34m]\u001b[0m\u001b[0;34m,\u001b[0m\u001b[0;34m\u001b[0m\u001b[0;34m\u001b[0m\u001b[0m\n\u001b[1;32m    124\u001b[0m             \u001b[0mtext_pair\u001b[0m\u001b[0;34m=\u001b[0m\u001b[0mtext_pair\u001b[0m \u001b[0;32mif\u001b[0m \u001b[0mtext_pair\u001b[0m \u001b[0;32mis\u001b[0m \u001b[0;32mnot\u001b[0m \u001b[0;32mNone\u001b[0m \u001b[0;32melse\u001b[0m \u001b[0;32mNone\u001b[0m\u001b[0;34m,\u001b[0m\u001b[0;34m\u001b[0m\u001b[0;34m\u001b[0m\u001b[0m\n",
            "\u001b[0;32m/usr/local/lib/python3.10/dist-packages/transformers/models/layoutlmv3/tokenization_layoutlmv3_fast.py\u001b[0m in \u001b[0;36m__call__\u001b[0;34m(self, text, text_pair, boxes, word_labels, add_special_tokens, padding, truncation, max_length, stride, pad_to_multiple_of, return_tensors, return_token_type_ids, return_attention_mask, return_overflowing_tokens, return_special_tokens_mask, return_offsets_mapping, return_length, verbose, **kwargs)\u001b[0m\n\u001b[1;32m    312\u001b[0m         \u001b[0;32mif\u001b[0m \u001b[0mis_batched\u001b[0m\u001b[0;34m:\u001b[0m\u001b[0;34m\u001b[0m\u001b[0;34m\u001b[0m\u001b[0m\n\u001b[1;32m    313\u001b[0m             \u001b[0;32mif\u001b[0m \u001b[0mlen\u001b[0m\u001b[0;34m(\u001b[0m\u001b[0mwords\u001b[0m\u001b[0;34m)\u001b[0m \u001b[0;34m!=\u001b[0m \u001b[0mlen\u001b[0m\u001b[0;34m(\u001b[0m\u001b[0mboxes\u001b[0m\u001b[0;34m)\u001b[0m\u001b[0;34m:\u001b[0m\u001b[0;34m\u001b[0m\u001b[0;34m\u001b[0m\u001b[0m\n\u001b[0;32m--> 314\u001b[0;31m                 \u001b[0;32mraise\u001b[0m \u001b[0mValueError\u001b[0m\u001b[0;34m(\u001b[0m\u001b[0;34m\"You must provide words and boxes for an equal amount of examples\"\u001b[0m\u001b[0;34m)\u001b[0m\u001b[0;34m\u001b[0m\u001b[0;34m\u001b[0m\u001b[0m\n\u001b[0m\u001b[1;32m    315\u001b[0m             \u001b[0;32mfor\u001b[0m \u001b[0mwords_example\u001b[0m\u001b[0;34m,\u001b[0m \u001b[0mboxes_example\u001b[0m \u001b[0;32min\u001b[0m \u001b[0mzip\u001b[0m\u001b[0;34m(\u001b[0m\u001b[0mwords\u001b[0m\u001b[0;34m,\u001b[0m \u001b[0mboxes\u001b[0m\u001b[0;34m)\u001b[0m\u001b[0;34m:\u001b[0m\u001b[0;34m\u001b[0m\u001b[0;34m\u001b[0m\u001b[0m\n\u001b[1;32m    316\u001b[0m                 \u001b[0;32mif\u001b[0m \u001b[0mlen\u001b[0m\u001b[0;34m(\u001b[0m\u001b[0mwords_example\u001b[0m\u001b[0;34m)\u001b[0m \u001b[0;34m!=\u001b[0m \u001b[0mlen\u001b[0m\u001b[0;34m(\u001b[0m\u001b[0mboxes_example\u001b[0m\u001b[0;34m)\u001b[0m\u001b[0;34m:\u001b[0m\u001b[0;34m\u001b[0m\u001b[0;34m\u001b[0m\u001b[0m\n",
            "\u001b[0;31mValueError\u001b[0m: You must provide words and boxes for an equal amount of examples"
          ]
        }
      ]
    },
    {
      "cell_type": "code",
      "source": [],
      "metadata": {
        "id": "MMCnIhpFpJxn"
      },
      "execution_count": null,
      "outputs": []
    },
    {
      "cell_type": "code",
      "source": [],
      "metadata": {
        "id": "a8eGY40ZpJv6"
      },
      "execution_count": null,
      "outputs": []
    },
    {
      "cell_type": "code",
      "source": [],
      "metadata": {
        "id": "lrasV0ctpJuR"
      },
      "execution_count": null,
      "outputs": []
    },
    {
      "cell_type": "code",
      "source": [],
      "metadata": {
        "id": "U4jzUonvhhGF"
      },
      "execution_count": null,
      "outputs": []
    },
    {
      "cell_type": "code",
      "source": [],
      "metadata": {
        "id": "9Fdqcf-PhhEa"
      },
      "execution_count": null,
      "outputs": []
    },
    {
      "cell_type": "code",
      "source": [],
      "metadata": {
        "id": "2_WJ3cTihhCt"
      },
      "execution_count": null,
      "outputs": []
    },
    {
      "cell_type": "code",
      "source": [],
      "metadata": {
        "id": "JmmGh6zgR2Be"
      },
      "execution_count": null,
      "outputs": []
    },
    {
      "cell_type": "code",
      "source": [],
      "metadata": {
        "id": "MXufxsuVR1_X"
      },
      "execution_count": null,
      "outputs": []
    },
    {
      "cell_type": "code",
      "source": [],
      "metadata": {
        "id": "QP8g5Dq7R19s"
      },
      "execution_count": null,
      "outputs": []
    }
  ],
  "metadata": {
    "kernelspec": {
      "display_name": "Python 3",
      "name": "python3"
    },
    "language_info": {
      "codemirror_mode": {
        "name": "ipython",
        "version": 3
      },
      "file_extension": ".py",
      "mimetype": "text/x-python",
      "name": "python",
      "nbconvert_exporter": "python",
      "pygments_lexer": "ipython3",
      "version": "3.11.4"
    },
    "orig_nbformat": 4,
    "colab": {
      "provenance": [],
      "include_colab_link": true
    },
    "widgets": {
      "application/vnd.jupyter.widget-state+json": {
        "45676a8a74c54213b48ae6fd52f698b1": {
          "model_module": "@jupyter-widgets/controls",
          "model_name": "HBoxModel",
          "model_module_version": "1.5.0",
          "state": {
            "_dom_classes": [],
            "_model_module": "@jupyter-widgets/controls",
            "_model_module_version": "1.5.0",
            "_model_name": "HBoxModel",
            "_view_count": null,
            "_view_module": "@jupyter-widgets/controls",
            "_view_module_version": "1.5.0",
            "_view_name": "HBoxView",
            "box_style": "",
            "children": [
              "IPY_MODEL_3f933a42e7294537a2a953fbd368fd31",
              "IPY_MODEL_9ec73a22e5864d3590c6415a3370d156",
              "IPY_MODEL_76abede776b644c893f0fc4a3a46bd62"
            ],
            "layout": "IPY_MODEL_2bd2eca954294bdb8196e0f397dafc0c"
          }
        },
        "3f933a42e7294537a2a953fbd368fd31": {
          "model_module": "@jupyter-widgets/controls",
          "model_name": "HTMLModel",
          "model_module_version": "1.5.0",
          "state": {
            "_dom_classes": [],
            "_model_module": "@jupyter-widgets/controls",
            "_model_module_version": "1.5.0",
            "_model_name": "HTMLModel",
            "_view_count": null,
            "_view_module": "@jupyter-widgets/controls",
            "_view_module_version": "1.5.0",
            "_view_name": "HTMLView",
            "description": "",
            "description_tooltip": null,
            "layout": "IPY_MODEL_1307207ed73143b89c422babdf8cf79d",
            "placeholder": "​",
            "style": "IPY_MODEL_de05728cb9f9496fa544560bf8cf5077",
            "value": "Map: 100%"
          }
        },
        "9ec73a22e5864d3590c6415a3370d156": {
          "model_module": "@jupyter-widgets/controls",
          "model_name": "FloatProgressModel",
          "model_module_version": "1.5.0",
          "state": {
            "_dom_classes": [],
            "_model_module": "@jupyter-widgets/controls",
            "_model_module_version": "1.5.0",
            "_model_name": "FloatProgressModel",
            "_view_count": null,
            "_view_module": "@jupyter-widgets/controls",
            "_view_module_version": "1.5.0",
            "_view_name": "ProgressView",
            "bar_style": "success",
            "description": "",
            "description_tooltip": null,
            "layout": "IPY_MODEL_a116a39cebfd4620bd34cf9cd905605f",
            "max": 95,
            "min": 0,
            "orientation": "horizontal",
            "style": "IPY_MODEL_440779a94a2d43cc87d5a38b8f2f8b5c",
            "value": 95
          }
        },
        "76abede776b644c893f0fc4a3a46bd62": {
          "model_module": "@jupyter-widgets/controls",
          "model_name": "HTMLModel",
          "model_module_version": "1.5.0",
          "state": {
            "_dom_classes": [],
            "_model_module": "@jupyter-widgets/controls",
            "_model_module_version": "1.5.0",
            "_model_name": "HTMLModel",
            "_view_count": null,
            "_view_module": "@jupyter-widgets/controls",
            "_view_module_version": "1.5.0",
            "_view_name": "HTMLView",
            "description": "",
            "description_tooltip": null,
            "layout": "IPY_MODEL_54583f2b5ad5444da6cb04d61ec0e734",
            "placeholder": "​",
            "style": "IPY_MODEL_a95f269272114b1b8d208509ca3e9ab2",
            "value": " 95/95 [08:48&lt;00:00,  6.53s/ examples]"
          }
        },
        "2bd2eca954294bdb8196e0f397dafc0c": {
          "model_module": "@jupyter-widgets/base",
          "model_name": "LayoutModel",
          "model_module_version": "1.2.0",
          "state": {
            "_model_module": "@jupyter-widgets/base",
            "_model_module_version": "1.2.0",
            "_model_name": "LayoutModel",
            "_view_count": null,
            "_view_module": "@jupyter-widgets/base",
            "_view_module_version": "1.2.0",
            "_view_name": "LayoutView",
            "align_content": null,
            "align_items": null,
            "align_self": null,
            "border": null,
            "bottom": null,
            "display": null,
            "flex": null,
            "flex_flow": null,
            "grid_area": null,
            "grid_auto_columns": null,
            "grid_auto_flow": null,
            "grid_auto_rows": null,
            "grid_column": null,
            "grid_gap": null,
            "grid_row": null,
            "grid_template_areas": null,
            "grid_template_columns": null,
            "grid_template_rows": null,
            "height": null,
            "justify_content": null,
            "justify_items": null,
            "left": null,
            "margin": null,
            "max_height": null,
            "max_width": null,
            "min_height": null,
            "min_width": null,
            "object_fit": null,
            "object_position": null,
            "order": null,
            "overflow": null,
            "overflow_x": null,
            "overflow_y": null,
            "padding": null,
            "right": null,
            "top": null,
            "visibility": null,
            "width": null
          }
        },
        "1307207ed73143b89c422babdf8cf79d": {
          "model_module": "@jupyter-widgets/base",
          "model_name": "LayoutModel",
          "model_module_version": "1.2.0",
          "state": {
            "_model_module": "@jupyter-widgets/base",
            "_model_module_version": "1.2.0",
            "_model_name": "LayoutModel",
            "_view_count": null,
            "_view_module": "@jupyter-widgets/base",
            "_view_module_version": "1.2.0",
            "_view_name": "LayoutView",
            "align_content": null,
            "align_items": null,
            "align_self": null,
            "border": null,
            "bottom": null,
            "display": null,
            "flex": null,
            "flex_flow": null,
            "grid_area": null,
            "grid_auto_columns": null,
            "grid_auto_flow": null,
            "grid_auto_rows": null,
            "grid_column": null,
            "grid_gap": null,
            "grid_row": null,
            "grid_template_areas": null,
            "grid_template_columns": null,
            "grid_template_rows": null,
            "height": null,
            "justify_content": null,
            "justify_items": null,
            "left": null,
            "margin": null,
            "max_height": null,
            "max_width": null,
            "min_height": null,
            "min_width": null,
            "object_fit": null,
            "object_position": null,
            "order": null,
            "overflow": null,
            "overflow_x": null,
            "overflow_y": null,
            "padding": null,
            "right": null,
            "top": null,
            "visibility": null,
            "width": null
          }
        },
        "de05728cb9f9496fa544560bf8cf5077": {
          "model_module": "@jupyter-widgets/controls",
          "model_name": "DescriptionStyleModel",
          "model_module_version": "1.5.0",
          "state": {
            "_model_module": "@jupyter-widgets/controls",
            "_model_module_version": "1.5.0",
            "_model_name": "DescriptionStyleModel",
            "_view_count": null,
            "_view_module": "@jupyter-widgets/base",
            "_view_module_version": "1.2.0",
            "_view_name": "StyleView",
            "description_width": ""
          }
        },
        "a116a39cebfd4620bd34cf9cd905605f": {
          "model_module": "@jupyter-widgets/base",
          "model_name": "LayoutModel",
          "model_module_version": "1.2.0",
          "state": {
            "_model_module": "@jupyter-widgets/base",
            "_model_module_version": "1.2.0",
            "_model_name": "LayoutModel",
            "_view_count": null,
            "_view_module": "@jupyter-widgets/base",
            "_view_module_version": "1.2.0",
            "_view_name": "LayoutView",
            "align_content": null,
            "align_items": null,
            "align_self": null,
            "border": null,
            "bottom": null,
            "display": null,
            "flex": null,
            "flex_flow": null,
            "grid_area": null,
            "grid_auto_columns": null,
            "grid_auto_flow": null,
            "grid_auto_rows": null,
            "grid_column": null,
            "grid_gap": null,
            "grid_row": null,
            "grid_template_areas": null,
            "grid_template_columns": null,
            "grid_template_rows": null,
            "height": null,
            "justify_content": null,
            "justify_items": null,
            "left": null,
            "margin": null,
            "max_height": null,
            "max_width": null,
            "min_height": null,
            "min_width": null,
            "object_fit": null,
            "object_position": null,
            "order": null,
            "overflow": null,
            "overflow_x": null,
            "overflow_y": null,
            "padding": null,
            "right": null,
            "top": null,
            "visibility": null,
            "width": null
          }
        },
        "440779a94a2d43cc87d5a38b8f2f8b5c": {
          "model_module": "@jupyter-widgets/controls",
          "model_name": "ProgressStyleModel",
          "model_module_version": "1.5.0",
          "state": {
            "_model_module": "@jupyter-widgets/controls",
            "_model_module_version": "1.5.0",
            "_model_name": "ProgressStyleModel",
            "_view_count": null,
            "_view_module": "@jupyter-widgets/base",
            "_view_module_version": "1.2.0",
            "_view_name": "StyleView",
            "bar_color": null,
            "description_width": ""
          }
        },
        "54583f2b5ad5444da6cb04d61ec0e734": {
          "model_module": "@jupyter-widgets/base",
          "model_name": "LayoutModel",
          "model_module_version": "1.2.0",
          "state": {
            "_model_module": "@jupyter-widgets/base",
            "_model_module_version": "1.2.0",
            "_model_name": "LayoutModel",
            "_view_count": null,
            "_view_module": "@jupyter-widgets/base",
            "_view_module_version": "1.2.0",
            "_view_name": "LayoutView",
            "align_content": null,
            "align_items": null,
            "align_self": null,
            "border": null,
            "bottom": null,
            "display": null,
            "flex": null,
            "flex_flow": null,
            "grid_area": null,
            "grid_auto_columns": null,
            "grid_auto_flow": null,
            "grid_auto_rows": null,
            "grid_column": null,
            "grid_gap": null,
            "grid_row": null,
            "grid_template_areas": null,
            "grid_template_columns": null,
            "grid_template_rows": null,
            "height": null,
            "justify_content": null,
            "justify_items": null,
            "left": null,
            "margin": null,
            "max_height": null,
            "max_width": null,
            "min_height": null,
            "min_width": null,
            "object_fit": null,
            "object_position": null,
            "order": null,
            "overflow": null,
            "overflow_x": null,
            "overflow_y": null,
            "padding": null,
            "right": null,
            "top": null,
            "visibility": null,
            "width": null
          }
        },
        "a95f269272114b1b8d208509ca3e9ab2": {
          "model_module": "@jupyter-widgets/controls",
          "model_name": "DescriptionStyleModel",
          "model_module_version": "1.5.0",
          "state": {
            "_model_module": "@jupyter-widgets/controls",
            "_model_module_version": "1.5.0",
            "_model_name": "DescriptionStyleModel",
            "_view_count": null,
            "_view_module": "@jupyter-widgets/base",
            "_view_module_version": "1.2.0",
            "_view_name": "StyleView",
            "description_width": ""
          }
        }
      }
    }
  },
  "nbformat": 4,
  "nbformat_minor": 0
}